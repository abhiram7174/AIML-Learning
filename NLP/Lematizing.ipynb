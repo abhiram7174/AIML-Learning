{
 "cells": [
  {
   "cell_type": "markdown",
   "id": "e391f43d",
   "metadata": {},
   "source": [
    "#                                               Lemmatizing                                              05-04-2022\n",
    "\n",
    "\n",
    "\n",
    " Lemmatizing reduces words to their core meaning. It will give you a complete English word that makes sense!!!\n",
    " \n",
    "Note: A lemma is a word that represents a whole group of words, and that group of words is called a lexeme.\n",
    "\n",
    "For example, if you were to look up the word “blending” in a dictionary, then you’d need to look at the entry for “blend,” but you would find “blending” listed in that entry.\n",
    "\n",
    "In this example, “blend” is the lemma, and “blending” is part of the lexeme. So when you lemmatize a word, you are reducing it to its lemma.\n",
    "\n",
    "\n",
    "\n"
   ]
  },
  {
   "cell_type": "markdown",
   "id": "a60d95c6",
   "metadata": {},
   "source": [
    "1) import the relevant parts of NLTK in order to start lemmatizing"
   ]
  },
  {
   "cell_type": "code",
   "execution_count": 6,
   "id": "484c5a3f",
   "metadata": {},
   "outputs": [],
   "source": [
    "from nltk.stem import WordNetLemmatizer\n",
    "from nltk import word_tokenize"
   ]
  },
  {
   "cell_type": "markdown",
   "id": "57ec0095",
   "metadata": {},
   "source": [
    "2)Create a lemmatizer to use: Assining the wrodNetLemmatizer class to object (lemmatizer)"
   ]
  },
  {
   "cell_type": "code",
   "execution_count": 2,
   "id": "39b99fb3",
   "metadata": {},
   "outputs": [],
   "source": [
    " lemmatizer=WordNetLemmatizer()"
   ]
  },
  {
   "cell_type": "raw",
   "id": "8dc83849",
   "metadata": {},
   "source": [
    "3) lemmatizing a plural noun:"
   ]
  },
  {
   "cell_type": "code",
   "execution_count": 3,
   "id": "6207aad0",
   "metadata": {},
   "outputs": [
    {
     "data": {
      "text/plain": [
       "'scarf'"
      ]
     },
     "execution_count": 3,
     "metadata": {},
     "output_type": "execute_result"
    }
   ],
   "source": [
    "lemmatizer.lemmatize(\"scarves\")"
   ]
  },
  {
   "cell_type": "raw",
   "id": "757d1fc6",
   "metadata": {},
   "source": [
    "For example: \"scarves\" gave you 'scarf' in lemmatizer but porter stemmer gave you 'scarv' which is bit more sophisticated."
   ]
  },
  {
   "cell_type": "raw",
   "id": "1b11bb49",
   "metadata": {},
   "source": [
    "A sentence lemmatizing"
   ]
  },
  {
   "cell_type": "code",
   "execution_count": 4,
   "id": "86c1ac9e",
   "metadata": {},
   "outputs": [],
   "source": [
    "string_for_lemmatizing = \"The friends of DeSoto love scarves.\""
   ]
  },
  {
   "cell_type": "raw",
   "id": "ee2e4027",
   "metadata": {},
   "source": [
    "tokenize that string by word:"
   ]
  },
  {
   "cell_type": "code",
   "execution_count": 7,
   "id": "ecd8601e",
   "metadata": {},
   "outputs": [],
   "source": [
    "words = word_tokenize(string_for_lemmatizing)"
   ]
  },
  {
   "cell_type": "code",
   "execution_count": 10,
   "id": "dab4a08b",
   "metadata": {},
   "outputs": [
    {
     "data": {
      "text/plain": [
       "['The', 'friends', 'of', 'DeSoto', 'love', 'scarves', '.']"
      ]
     },
     "execution_count": 10,
     "metadata": {},
     "output_type": "execute_result"
    }
   ],
   "source": [
    "words"
   ]
  },
  {
   "cell_type": "raw",
   "id": "3366e18f",
   "metadata": {},
   "source": [
    "Create a list containing all the words in words after they’ve been lemmatized"
   ]
  },
  {
   "cell_type": "code",
   "execution_count": 11,
   "id": "504af4fb",
   "metadata": {},
   "outputs": [],
   "source": [
    "lemmatized_words = [lemmatizer.lemmatize(word) for word in words]"
   ]
  },
  {
   "cell_type": "raw",
   "id": "43dd6a70",
   "metadata": {},
   "source": [
    "list containing all the lemmatized words"
   ]
  },
  {
   "cell_type": "code",
   "execution_count": 12,
   "id": "13a50426",
   "metadata": {},
   "outputs": [
    {
     "data": {
      "text/plain": [
       "['The', 'friend', 'of', 'DeSoto', 'love', 'scarf', '.']"
      ]
     },
     "execution_count": 12,
     "metadata": {},
     "output_type": "execute_result"
    }
   ],
   "source": [
    "lemmatized_words"
   ]
  },
  {
   "cell_type": "markdown",
   "id": "89a488eb",
   "metadata": {},
   "source": [
    "Observations:\n",
    "The plurals 'friends' and 'scarves' became the singulars 'friend' and 'scarf'."
   ]
  },
  {
   "cell_type": "markdown",
   "id": "aebf84b2",
   "metadata": {},
   "source": [
    "What would happen if you lemmatized a word that looked very different from its lemma?"
   ]
  },
  {
   "cell_type": "markdown",
   "id": "1c304a0f",
   "metadata": {},
   "source": [
    "lemmatizer.lemmatize() assumed that \"worst\" was a noun. "
   ]
  },
  {
   "cell_type": "code",
   "execution_count": 15,
   "id": "7e13f3e7",
   "metadata": {},
   "outputs": [
    {
     "data": {
      "text/plain": [
       "'worst'"
      ]
     },
     "execution_count": 15,
     "metadata": {},
     "output_type": "execute_result"
    }
   ],
   "source": [
    "lemmatizer.lemmatize(\"worst\")"
   ]
  },
  {
   "cell_type": "markdown",
   "id": "5a88498b",
   "metadata": {},
   "source": [
    "To  make it clear that you want \"worst\" to be an adjective:\n",
    "The default parameter for pos is 'n' for noun, but you made sure that \"worst\" was treated as an adjective by adding the parameter pos=\"a\""
   ]
  },
  {
   "cell_type": "code",
   "execution_count": 34,
   "id": "29136c7e",
   "metadata": {},
   "outputs": [
    {
     "data": {
      "text/plain": [
       "'sitting'"
      ]
     },
     "execution_count": 34,
     "metadata": {},
     "output_type": "execute_result"
    }
   ],
   "source": [
    " lemmatizer.lemmatize(\"sitting\",pos='a')"
   ]
  },
  {
   "cell_type": "markdown",
   "id": "719db140",
   "metadata": {},
   "source": [
    "This is because \"worst\" is the superlative form of the adjective 'bad', and lemmatizing reduces superlatives as well as comparatives to their lemmas."
   ]
  },
  {
   "cell_type": "code",
   "execution_count": 30,
   "id": "4a53ba99",
   "metadata": {},
   "outputs": [
    {
     "data": {
      "text/plain": [
       "'encouraging'"
      ]
     },
     "execution_count": 30,
     "metadata": {},
     "output_type": "execute_result"
    }
   ],
   "source": [
    " lemmatizer.lemmatize(\"\",pos=\"a\")\n",
    "    "
   ]
  },
  {
   "cell_type": "code",
   "execution_count": null,
   "id": "11d3d821",
   "metadata": {},
   "outputs": [],
   "source": [
    "sentence='the cat is sitting with the bats on the striped mat under many badly flying geese'\n"
   ]
  }
 ],
 "metadata": {
  "kernelspec": {
   "display_name": "Python 3 (ipykernel)",
   "language": "python",
   "name": "python3"
  },
  "language_info": {
   "codemirror_mode": {
    "name": "ipython",
    "version": 3
   },
   "file_extension": ".py",
   "mimetype": "text/x-python",
   "name": "python",
   "nbconvert_exporter": "python",
   "pygments_lexer": "ipython3",
   "version": "3.9.7"
  }
 },
 "nbformat": 4,
 "nbformat_minor": 5
}
