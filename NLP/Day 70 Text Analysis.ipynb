{
 "cells": [
  {
   "cell_type": "markdown",
   "id": "07047393",
   "metadata": {},
   "source": [
    "# Getting Text to Analyze"
   ]
  },
  {
   "cell_type": "markdown",
   "id": "a068c750",
   "metadata": {},
   "source": [
    "Now that you’ve done some text processing tasks with small example texts, you’re ready to analyze a bunch of texts at once. <ins><b>A group of texts is called a corpus </b></ins>. \n",
    "\n",
    "NLTK provides several corpora covering everything from novels hosted by Project Gutenberg to inaugural speeches by presidents of the United States.\n",
    "\n",
    "In order to analyze texts in NLTK, you first need to import them. "
   ]
  },
  {
   "cell_type": "markdown",
   "id": "103de2e4",
   "metadata": {},
   "source": [
    "First step import necessary libararies "
   ]
  },
  {
   "cell_type": "code",
   "execution_count": 2,
   "id": "e1ff5752",
   "metadata": {},
   "outputs": [],
   "source": [
    "import nltk\n"
   ]
  },
  {
   "cell_type": "code",
   "execution_count": 4,
   "id": "6b7c032f",
   "metadata": {},
   "outputs": [
    {
     "name": "stderr",
     "output_type": "stream",
     "text": [
      "[nltk_data] Downloading collection 'book'\n",
      "[nltk_data]    | \n",
      "[nltk_data]    | Downloading package abc to\n",
      "[nltk_data]    |     C:\\Users\\abhir\\AppData\\Roaming\\nltk_data...\n",
      "[nltk_data]    |   Package abc is already up-to-date!\n",
      "[nltk_data]    | Downloading package brown to\n",
      "[nltk_data]    |     C:\\Users\\abhir\\AppData\\Roaming\\nltk_data...\n",
      "[nltk_data]    |   Package brown is already up-to-date!\n",
      "[nltk_data]    | Downloading package chat80 to\n",
      "[nltk_data]    |     C:\\Users\\abhir\\AppData\\Roaming\\nltk_data...\n",
      "[nltk_data]    |   Package chat80 is already up-to-date!\n",
      "[nltk_data]    | Downloading package cmudict to\n",
      "[nltk_data]    |     C:\\Users\\abhir\\AppData\\Roaming\\nltk_data...\n",
      "[nltk_data]    |   Package cmudict is already up-to-date!\n",
      "[nltk_data]    | Downloading package conll2000 to\n",
      "[nltk_data]    |     C:\\Users\\abhir\\AppData\\Roaming\\nltk_data...\n",
      "[nltk_data]    |   Package conll2000 is already up-to-date!\n",
      "[nltk_data]    | Downloading package conll2002 to\n",
      "[nltk_data]    |     C:\\Users\\abhir\\AppData\\Roaming\\nltk_data...\n",
      "[nltk_data]    |   Package conll2002 is already up-to-date!\n",
      "[nltk_data]    | Downloading package dependency_treebank to\n",
      "[nltk_data]    |     C:\\Users\\abhir\\AppData\\Roaming\\nltk_data...\n",
      "[nltk_data]    |   Package dependency_treebank is already up-to-date!\n",
      "[nltk_data]    | Downloading package genesis to\n",
      "[nltk_data]    |     C:\\Users\\abhir\\AppData\\Roaming\\nltk_data...\n",
      "[nltk_data]    |   Package genesis is already up-to-date!\n",
      "[nltk_data]    | Downloading package gutenberg to\n",
      "[nltk_data]    |     C:\\Users\\abhir\\AppData\\Roaming\\nltk_data...\n",
      "[nltk_data]    |   Package gutenberg is already up-to-date!\n",
      "[nltk_data]    | Downloading package ieer to\n",
      "[nltk_data]    |     C:\\Users\\abhir\\AppData\\Roaming\\nltk_data...\n",
      "[nltk_data]    |   Package ieer is already up-to-date!\n",
      "[nltk_data]    | Downloading package inaugural to\n",
      "[nltk_data]    |     C:\\Users\\abhir\\AppData\\Roaming\\nltk_data...\n",
      "[nltk_data]    |   Package inaugural is already up-to-date!\n",
      "[nltk_data]    | Downloading package movie_reviews to\n",
      "[nltk_data]    |     C:\\Users\\abhir\\AppData\\Roaming\\nltk_data...\n",
      "[nltk_data]    |   Package movie_reviews is already up-to-date!\n",
      "[nltk_data]    | Downloading package nps_chat to\n",
      "[nltk_data]    |     C:\\Users\\abhir\\AppData\\Roaming\\nltk_data...\n",
      "[nltk_data]    |   Package nps_chat is already up-to-date!\n",
      "[nltk_data]    | Downloading package names to\n",
      "[nltk_data]    |     C:\\Users\\abhir\\AppData\\Roaming\\nltk_data...\n",
      "[nltk_data]    |   Package names is already up-to-date!\n",
      "[nltk_data]    | Downloading package ppattach to\n",
      "[nltk_data]    |     C:\\Users\\abhir\\AppData\\Roaming\\nltk_data...\n",
      "[nltk_data]    |   Package ppattach is already up-to-date!\n",
      "[nltk_data]    | Downloading package reuters to\n",
      "[nltk_data]    |     C:\\Users\\abhir\\AppData\\Roaming\\nltk_data...\n",
      "[nltk_data]    |   Package reuters is already up-to-date!\n",
      "[nltk_data]    | Downloading package senseval to\n",
      "[nltk_data]    |     C:\\Users\\abhir\\AppData\\Roaming\\nltk_data...\n",
      "[nltk_data]    |   Package senseval is already up-to-date!\n",
      "[nltk_data]    | Downloading package state_union to\n",
      "[nltk_data]    |     C:\\Users\\abhir\\AppData\\Roaming\\nltk_data...\n",
      "[nltk_data]    |   Package state_union is already up-to-date!\n",
      "[nltk_data]    | Downloading package stopwords to\n",
      "[nltk_data]    |     C:\\Users\\abhir\\AppData\\Roaming\\nltk_data...\n",
      "[nltk_data]    |   Package stopwords is already up-to-date!\n",
      "[nltk_data]    | Downloading package swadesh to\n",
      "[nltk_data]    |     C:\\Users\\abhir\\AppData\\Roaming\\nltk_data...\n",
      "[nltk_data]    |   Package swadesh is already up-to-date!\n",
      "[nltk_data]    | Downloading package timit to\n",
      "[nltk_data]    |     C:\\Users\\abhir\\AppData\\Roaming\\nltk_data...\n",
      "[nltk_data]    |   Package timit is already up-to-date!\n",
      "[nltk_data]    | Downloading package treebank to\n",
      "[nltk_data]    |     C:\\Users\\abhir\\AppData\\Roaming\\nltk_data...\n",
      "[nltk_data]    |   Package treebank is already up-to-date!\n",
      "[nltk_data]    | Downloading package toolbox to\n",
      "[nltk_data]    |     C:\\Users\\abhir\\AppData\\Roaming\\nltk_data...\n",
      "[nltk_data]    |   Package toolbox is already up-to-date!\n",
      "[nltk_data]    | Downloading package udhr to\n",
      "[nltk_data]    |     C:\\Users\\abhir\\AppData\\Roaming\\nltk_data...\n",
      "[nltk_data]    |   Package udhr is already up-to-date!\n",
      "[nltk_data]    | Downloading package udhr2 to\n",
      "[nltk_data]    |     C:\\Users\\abhir\\AppData\\Roaming\\nltk_data...\n",
      "[nltk_data]    |   Package udhr2 is already up-to-date!\n",
      "[nltk_data]    | Downloading package unicode_samples to\n",
      "[nltk_data]    |     C:\\Users\\abhir\\AppData\\Roaming\\nltk_data...\n",
      "[nltk_data]    |   Package unicode_samples is already up-to-date!\n",
      "[nltk_data]    | Downloading package webtext to\n",
      "[nltk_data]    |     C:\\Users\\abhir\\AppData\\Roaming\\nltk_data...\n",
      "[nltk_data]    |   Package webtext is already up-to-date!\n",
      "[nltk_data]    | Downloading package wordnet to\n",
      "[nltk_data]    |     C:\\Users\\abhir\\AppData\\Roaming\\nltk_data...\n",
      "[nltk_data]    |   Package wordnet is already up-to-date!\n",
      "[nltk_data]    | Downloading package wordnet_ic to\n",
      "[nltk_data]    |     C:\\Users\\abhir\\AppData\\Roaming\\nltk_data...\n",
      "[nltk_data]    |   Package wordnet_ic is already up-to-date!\n",
      "[nltk_data]    | Downloading package words to\n",
      "[nltk_data]    |     C:\\Users\\abhir\\AppData\\Roaming\\nltk_data...\n",
      "[nltk_data]    |   Package words is already up-to-date!\n",
      "[nltk_data]    | Downloading package maxent_treebank_pos_tagger to\n",
      "[nltk_data]    |     C:\\Users\\abhir\\AppData\\Roaming\\nltk_data...\n",
      "[nltk_data]    |   Package maxent_treebank_pos_tagger is already up-\n",
      "[nltk_data]    |       to-date!\n",
      "[nltk_data]    | Downloading package maxent_ne_chunker to\n",
      "[nltk_data]    |     C:\\Users\\abhir\\AppData\\Roaming\\nltk_data...\n",
      "[nltk_data]    |   Package maxent_ne_chunker is already up-to-date!\n",
      "[nltk_data]    | Downloading package universal_tagset to\n",
      "[nltk_data]    |     C:\\Users\\abhir\\AppData\\Roaming\\nltk_data...\n",
      "[nltk_data]    |   Package universal_tagset is already up-to-date!\n",
      "[nltk_data]    | Downloading package punkt to\n",
      "[nltk_data]    |     C:\\Users\\abhir\\AppData\\Roaming\\nltk_data...\n",
      "[nltk_data]    |   Package punkt is already up-to-date!\n",
      "[nltk_data]    | Downloading package book_grammars to\n",
      "[nltk_data]    |     C:\\Users\\abhir\\AppData\\Roaming\\nltk_data...\n",
      "[nltk_data]    |   Package book_grammars is already up-to-date!\n",
      "[nltk_data]    | Downloading package city_database to\n",
      "[nltk_data]    |     C:\\Users\\abhir\\AppData\\Roaming\\nltk_data...\n",
      "[nltk_data]    |   Package city_database is already up-to-date!\n",
      "[nltk_data]    | Downloading package tagsets to\n",
      "[nltk_data]    |     C:\\Users\\abhir\\AppData\\Roaming\\nltk_data...\n",
      "[nltk_data]    |   Package tagsets is already up-to-date!\n",
      "[nltk_data]    | Downloading package panlex_swadesh to\n",
      "[nltk_data]    |     C:\\Users\\abhir\\AppData\\Roaming\\nltk_data...\n",
      "[nltk_data]    |   Package panlex_swadesh is already up-to-date!\n",
      "[nltk_data]    | Downloading package averaged_perceptron_tagger to\n",
      "[nltk_data]    |     C:\\Users\\abhir\\AppData\\Roaming\\nltk_data...\n",
      "[nltk_data]    |   Package averaged_perceptron_tagger is already up-\n",
      "[nltk_data]    |       to-date!\n",
      "[nltk_data]    | \n",
      "[nltk_data]  Done downloading collection book\n"
     ]
    },
    {
     "data": {
      "text/plain": [
       "True"
      ]
     },
     "execution_count": 4,
     "metadata": {},
     "output_type": "execute_result"
    }
   ],
   "source": [
    "nltk.download(\"book\")"
   ]
  },
  {
   "cell_type": "markdown",
   "id": "6f10c0b8",
   "metadata": {},
   "source": [
    "It contains the text of each book which contain in the book corpus . We can choose any text book and we can do analysis only"
   ]
  },
  {
   "cell_type": "code",
   "execution_count": 5,
   "id": "728a2ec2",
   "metadata": {},
   "outputs": [
    {
     "name": "stdout",
     "output_type": "stream",
     "text": [
      "*** Introductory Examples for the NLTK Book ***\n",
      "Loading text1, ..., text9 and sent1, ..., sent9\n",
      "Type the name of the text or sentence to view it.\n",
      "Type: 'texts()' or 'sents()' to list the materials.\n",
      "text1: Moby Dick by Herman Melville 1851\n",
      "text2: Sense and Sensibility by Jane Austen 1811\n",
      "text3: The Book of Genesis\n",
      "text4: Inaugural Address Corpus\n",
      "text5: Chat Corpus\n",
      "text6: Monty Python and the Holy Grail\n",
      "text7: Wall Street Journal\n",
      "text8: Personals Corpus\n",
      "text9: The Man Who Was Thursday by G . K . Chesterton 1908\n"
     ]
    }
   ],
   "source": [
    "from nltk.book import *"
   ]
  },
  {
   "cell_type": "markdown",
   "id": "017173a1",
   "metadata": {},
   "source": [
    "You now have access to a few linear texts (such as Sense and Sensibility and Monty Python and the Holy Grail) as well as a few groups of texts (such as a chat corpus and a personals corpus). Human nature is fascinating, so let’s see what we can find out by taking a closer look at the personals corpus!\n",
    "\n",
    "This corpus is a collection of personals ads, which were an early version of online dating. If you wanted to meet someone, then you could place an ad in a newspaper and wait for other readers to respond to you.\n",
    "\n",
    "If you’d like to learn how to get other texts to analyze, then you can check out <a href='https://www.nltk.org/book/ch03.html' > Chapter 3</a> of Natural Language Processing with Python – Analyzing Text with the Natural Language Toolkit."
   ]
  },
  {
   "cell_type": "markdown",
   "id": "36a30d1f",
   "metadata": {},
   "source": [
    "**Concordance**"
   ]
  },
  {
   "cell_type": "markdown",
   "id": "a8dda2e3",
   "metadata": {},
   "source": [
    "When you use a concordance, you can see each time a word is used, along with its immediate context. This can give you a peek into how a word is being used at the sentence level and what words are used with it.\n",
    "\n",
    "Let’s see what these good people looking for love have to say! The personals corpus is called text8, so we’re going to call .concordance() on it with the parameter \"man\""
   ]
  },
  {
   "cell_type": "code",
   "execution_count": 12,
   "id": "7eb53e3b",
   "metadata": {},
   "outputs": [
    {
     "name": "stdout",
     "output_type": "stream",
     "text": [
      "Displaying 14 of 14 matches:\n",
      " to hearing from you all . ABLE young man seeks , sexy older women . Phone for \n",
      "ble relationship . GENUINE ATTRACTIVE MAN 40 y . o ., no ties , secure , 5 ft .\n",
      "ship , and quality times . VIETNAMESE MAN Single , never married , financially \n",
      "ip . WELL DRESSED emotionally healthy man 37 like to meet full figured woman fo\n",
      " nth subs LIKE TO BE MISTRESS of YOUR MAN like to be treated well . Bold DTE no\n",
      "eeks lady in similar position MARRIED MAN 50 , attrac . fit , seeks lady 40 - 5\n",
      "eks nice girl 25 - 30 serious rship . Man 46 attractive fit , assertive , and k\n",
      " 40 - 50 sought by Aussie mid 40s b / man f / ship r / ship LOVE to meet widowe\n",
      "discreet times . Sth E Subs . MARRIED MAN 42yo 6ft , fit , seeks Lady for discr\n",
      "woman , seeks professional , employed man , with interests in theatre , dining \n",
      " tall and of large build seeks a good man . I am a nonsmoker , social drinker ,\n",
      "lead to relationship . SEEKING HONEST MAN I am 41 y . o ., 5 ft . 4 , med . bui\n",
      " quiet times . Seeks 35 - 45 , honest man with good SOH & similar interests , f\n",
      " genuine , caring , honest and normal man for fship , poss rship . S / S , S / \n"
     ]
    }
   ],
   "source": [
    "text8.concordance(\"man\")\n"
   ]
  },
  {
   "cell_type": "markdown",
   "id": "500800e0",
   "metadata": {},
   "source": [
    "Interestingly, the last three of those fourteen matches have to do with seeking an honest man, specifically:\n",
    "\n",
    "1.**SEEKING HONEST MAN**\n",
    "\n",
    "\n",
    "2.**Seeks 35 - 45 , honest man with good SOH & similar interests**\n",
    "\n",
    "\n",
    "3.**genuine , caring , honest and normal man for fship , poss rship**"
   ]
  },
  {
   "cell_type": "markdown",
   "id": "a98855bb",
   "metadata": {},
   "source": [
    "Let’s see if there’s a similar pattern with the word \n",
    "(\"woman\"):"
   ]
  },
  {
   "cell_type": "code",
   "execution_count": 14,
   "id": "2226ac65",
   "metadata": {},
   "outputs": [
    {
     "name": "stdout",
     "output_type": "stream",
     "text": [
      "Displaying 11 of 11 matches:\n",
      "at home . Seeking an honest , caring woman , slim or med . build , who enjoys t\n",
      "thy man 37 like to meet full figured woman for relationship . 48 slim , shy , S\n",
      "rry . MALE 58 years old . Is there a Woman who would like to spend 1 weekend a \n",
      " other interests . Seeking Christian Woman for fship , view to rship . SWM 45 D\n",
      "ALE 60 - burly beared seeks intimate woman for outings n / s s / d F / ston / P\n",
      "ington . SCORPIO 47 seeks passionate woman for discreet intimate encounters SEX\n",
      "le dad . 42 , East sub . 5 \" 9 seeks woman 30 + for f / ship relationship TALL \n",
      "personal trainer looking for married woman age open for fun MARRIED Dark guy 37\n",
      "rinker , seeking slim - medium build woman who is happy in life , age open . AC\n",
      ". O . TERTIARY Educated professional woman , seeks professional , employed man \n",
      " real romantic , age 50 - 65 y . o . WOMAN OF SUBSTANCE 56 , 59 kg ., 50 , fit \n"
     ]
    }
   ],
   "source": [
    "text8.concordance(\"woman\")"
   ]
  },
  {
   "cell_type": "markdown",
   "id": "2e07781e",
   "metadata": {},
   "source": [
    "The issue of honesty came up in the first match only:"
   ]
  },
  {
   "cell_type": "markdown",
   "id": "5f7f0dcb",
   "metadata": {},
   "source": [
    "The issue of honesty came up in the first match only:"
   ]
  },
  {
   "cell_type": "markdown",
   "id": "795cd901",
   "metadata": {},
   "source": [
    "**Shell**\n",
    "        \n",
    "        \n",
    "        Seeking an honest , caring woman , slim or med . build\n",
    "\n"
   ]
  },
  {
   "cell_type": "markdown",
   "id": "4542e180",
   "metadata": {},
   "source": [
    "Dipping into a corpus with a concordance won’t give you the full picture, but it can still be interesting to take a peek and see if anything stands out."
   ]
  },
  {
   "cell_type": "markdown",
   "id": "f938851f",
   "metadata": {},
   "source": [
    "**Making a Dispersion Plot**"
   ]
  },
  {
   "cell_type": "markdown",
   "id": "99916370",
   "metadata": {},
   "source": [
    "You can use a dispersion plot to see how much a particular word appears and where it appears. So far, we’ve looked for \"man\" and \"woman\", but it would be interesting to see how much those words are used compared to their synonyms:"
   ]
  },
  {
   "cell_type": "code",
   "execution_count": 17,
   "id": "da034e1c",
   "metadata": {},
   "outputs": [
    {
     "data": {
      "image/png": "[encoded data removed]",
      "text/plain": [
       "<Figure size 432x288 with 1 Axes>"
      ]
     },
     "metadata": {
      "needs_background": "light"
     },
     "output_type": "display_data"
    }
   ],
   "source": [
    " text8.dispersion_plot(   [\"woman\", \"lady\", \"girl\", \"gal\", \"man\", \"gentleman\", \"boy\", \"guy\"] )"
   ]
  },
  {
   "cell_type": "markdown",
   "id": "0fda3447",
   "metadata": {},
   "source": [
    "Each vertical blue line represents one instance of a word. Each horizontal row of blue lines represents the corpus as a whole. This plot shows that:\n",
    "<p>\n",
    "<li>\"lady\" was used a lot more than \"woman\" or \"girl\". There were no instances of \"gal\".</li>\n",
    "<li>\"man\" and \"guy\" were used a similar number of times and were more common than \"gentleman\" or \"boy\".</li>\n",
    "</p>\n",
    "You use a dispersion plot when you want to see where words show up in a text or corpus. If you’re analyzing a single text, this can help you see which words show up near each other. If you’re analyzing a corpus of texts that is organized chronologically, it can help you see which words were being used more or less over a period of time.\n",
    "\n",
    "Staying on the theme of romance, see what you can find out by making a dispersion plot for Sense and Sensibility, which is text2. Jane Austen novels talk a lot about people’s homes, so make a dispersion plot with the names of a few homes:\n",
    "\n"
   ]
  },
  {
   "cell_type": "code",
   "execution_count": 19,
   "id": "331751d1",
   "metadata": {},
   "outputs": [
    {
     "data": {
      "image/png": "[encoded data removed]",
      "text/plain": [
       "<Figure size 432x288 with 1 Axes>"
      ]
     },
     "metadata": {
      "needs_background": "light"
     },
     "output_type": "display_data"
    }
   ],
   "source": [
    "text2.dispersion_plot([\"Allenham\", \"Whitwell\", \"Cleveland\", \"Combe\"])"
   ]
  },
  {
   "cell_type": "markdown",
   "id": "f28f513d",
   "metadata": {},
   "source": [
    "Apparently Allenham is mentioned a lot in the first third of the novel and then doesn’t come up much again. Cleveland, on the other hand, barely comes up in the first two thirds but shows up a fair bit in the last third. This distribution reflects changes in the relationship between <a  href='https://en.wikipedia.org/wiki/Marianne_Dashwood'> Marianne </a> and <a href='https://en.wikipedia.org/wiki/John_Willoughby'> Willoughby</a>:\n",
    "<p>\n",
    "<li> Allenham is the home of Willoughby’s benefactress and comes up a lot when Marianne is first interested in him.</li>\n",
    "<li> Cleveland is a home that Marianne stays at after she goes to see Willoughby in London and things go wrong.</li>\n",
    "</p>\n",
    "\n",
    "Dispersion plots are just one type of visualization you can make for textual data. The next one you’ll take a look at is frequency distributions."
   ]
  },
  {
   "cell_type": "markdown",
   "id": "ef6f8fd2",
   "metadata": {},
   "source": [
    "**Making a Frequency Distribution**"
   ]
  },
  {
   "cell_type": "markdown",
   "id": "7785a7a7",
   "metadata": {},
   "source": [
    "With a frequency distribution, you can check which words show up most frequently in your text. You’ll need to get started with an import the necessary libraray FreqDist"
   ]
  },
  {
   "cell_type": "code",
   "execution_count": 22,
   "id": "a15d4806",
   "metadata": {},
   "outputs": [],
   "source": [
    "from nltk import FreqDist"
   ]
  },
  {
   "cell_type": "markdown",
   "id": "f98a438b",
   "metadata": {},
   "source": [
    "<a href='https://github.com/nltk/nltk/blob/1805fe870635afb7ef16d4ff5373e1c3d97c9107/nltk/probability.py#L61'>FreqDist</a> is a subclass of collections.Counter. Here’s how to create a frequency distribution of the entire corpus of personals ads:"
   ]
  },
  {
   "cell_type": "code",
   "execution_count": 25,
   "id": "c58ee8c7",
   "metadata": {},
   "outputs": [],
   "source": [
    "Frequency_distribution =FreqDist(text8)"
   ]
  },
  {
   "cell_type": "code",
   "execution_count": 27,
   "id": "344b877c",
   "metadata": {},
   "outputs": [
    {
     "name": "stdout",
     "output_type": "stream",
     "text": [
      "<FreqDist with 1108 samples and 4867 outcomes>\n"
     ]
    }
   ],
   "source": [
    "print(Frequency_distribution)"
   ]
  },
  {
   "cell_type": "markdown",
   "id": "3dc55606",
   "metadata": {},
   "source": [
    "Since 1108 samples and 4867 outcomes is a lot of information, start by narrowing that down. \n",
    "\n",
    "Here’s how to see the 20 most common words in the corpus:\n"
   ]
  },
  {
   "cell_type": "code",
   "execution_count": 29,
   "id": "6652f447",
   "metadata": {},
   "outputs": [
    {
     "data": {
      "text/plain": [
       "[(',', 539),\n",
       " ('.', 353),\n",
       " ('/', 110),\n",
       " ('for', 99),\n",
       " ('and', 74),\n",
       " ('to', 74),\n",
       " ('lady', 68),\n",
       " ('-', 66),\n",
       " ('seeks', 60),\n",
       " ('a', 52),\n",
       " ('with', 44),\n",
       " ('S', 36),\n",
       " ('ship', 33),\n",
       " ('&', 30),\n",
       " ('relationship', 29),\n",
       " ('fun', 28),\n",
       " ('in', 27),\n",
       " ('slim', 27),\n",
       " ('build', 27),\n",
       " ('o', 26)]"
      ]
     },
     "execution_count": 29,
     "metadata": {},
     "output_type": "execute_result"
    }
   ],
   "source": [
    "Frequency_distribution.most_common(20)"
   ]
  },
  {
   "cell_type": "markdown",
   "id": "a1ba1c15",
   "metadata": {},
   "source": [
    "You can turn this list into a graph:\n",
    "    "
   ]
  },
  {
   "cell_type": "code",
   "execution_count": 33,
   "id": "ef25dca0",
   "metadata": {},
   "outputs": [
    {
     "data": {
      "image/png": "[encoded data removed]",
      "text/plain": [
       "<Figure size 432x288 with 1 Axes>"
      ]
     },
     "metadata": {
      "needs_background": "light"
     },
     "output_type": "display_data"
    },
    {
     "data": {
      "text/plain": [
       "<AxesSubplot:xlabel='Samples', ylabel='Cumulative Counts'>"
      ]
     },
     "execution_count": 33,
     "metadata": {},
     "output_type": "execute_result"
    }
   ],
   "source": [
    "Frequency_distribution.plot(20,cumulative=True)"
   ]
  },
  {
   "cell_type": "markdown",
   "id": "eceefa60",
   "metadata": {},
   "source": [
    "Some of the most common words are:\n",
    " <ul>   \n",
    "<li>'lady'</li>\n",
    "<li>'seeks'</li>\n",
    "<li>'ship'</li>\n",
    "<li>'relationship'</li>\n",
    "<li>'fun'</li>\n",
    "<li>'slim'</li>\n",
    "<li>'build'</li>\n",
    "<li>'smoker'</li>\n",
    "<li>'50'</li>\n",
    "<li>'non'</li>\n",
    "<li>'movies'</li>\n",
    "<li>'good'</li>\n",
    "<li>'honest'</li>\n",
    " </ul>\n",
    "\n",
    "<p>\n",
    "From what you’ve already learned about the people writing these personals ads, they did seem interested in honesty and used the word 'lady' a lot. In addition, 'slim' and 'build' both show up the same number of times. You saw slim and build used near each other when you were learning about concordances, so maybe those two words are commonly used together in this corpus. That brings us to collocations!\n",
    "</p>\n"
   ]
  },
  {
   "cell_type": "markdown",
   "id": "dd68eb70",
   "metadata": {},
   "source": [
    "**Finding Collocations**"
   ]
  },
  {
   "cell_type": "markdown",
   "id": "704652c2",
   "metadata": {},
   "source": [
    "A collocation is a sequence of words that shows up often. If you’re interested in common collocations in English, then you can check out **The BBI Dictionary of English Word Combinations**. It’s a handy reference you can use to help you make sure your writing is <a href='https://en.wikipedia.org/wiki/English-language_idioms'>idiomatic</a>. Here are some examples of collocations that use the word “tree”:\n",
    "<ul>\n",
    "<li>Syntax tree</li>\n",
    "<li>Family tree</li>\n",
    "<li>Decision tree</li>\n",
    "</ul>\n",
    "To see pairs of words that come up often in your corpus, you need to call  .<b>collocations()</b> on it:"
   ]
  },
  {
   "cell_type": "code",
   "execution_count": 37,
   "id": "2be1dcaf",
   "metadata": {},
   "outputs": [
    {
     "name": "stdout",
     "output_type": "stream",
     "text": [
      "would like; medium build; social drinker; quiet nights; non smoker;\n",
      "long term; age open; Would like; easy going; financially secure; fun\n",
      "times; similar interests; Age open; weekends away; poss rship; well\n",
      "presented; never married; single mum; permanent relationship; slim\n",
      "build\n"
     ]
    }
   ],
   "source": [
    "text8.collocations()"
   ]
  },
  {
   "cell_type": "markdown",
   "id": "e777f881",
   "metadata": {},
   "source": [
    "slim build did show up, as did medium build and several other word combinations. No long walks on the beach though!\n",
    "\n",
    "But what would happen if you looked for collocations after lemmatizing the words in your corpus? Would you find some word combinations that you missed the first time around because they came up in slightly varied versions?\n",
    "\n",
    "If you followed the instructions earlier, then you’ll already have a lemmatizer, but you can’t call collocations() on just any data type, so you’re going to need to do some prep work. <b>Start by creating a list of the lemmatized versions of all the words in text8</b>:"
   ]
  },
  {
   "cell_type": "code",
   "execution_count": 45,
   "id": "47eabddb",
   "metadata": {},
   "outputs": [],
   "source": [
    "from nltk.stem import WordNetLemmatizer\n",
    "\n",
    "lemmatizer = WordNetLemmatizer()"
   ]
  },
  {
   "cell_type": "code",
   "execution_count": 46,
   "id": "53488905",
   "metadata": {},
   "outputs": [],
   "source": [
    "lemmatized_words = [lemmatizer.lemmatize(word) for word in text8]"
   ]
  },
  {
   "cell_type": "code",
   "execution_count": 50,
   "id": "b8ad012a",
   "metadata": {},
   "outputs": [
    {
     "name": "stdout",
     "output_type": "stream",
     "text": [
      "['25', 'SEXY', 'MALE', ',', 'seek', 'attrac', 'older', 'single', 'lady', ',', 'for', 'discreet', 'encounter', '.', '35YO', 'Security', 'Guard', ',', 'seeking', 'lady', 'in', 'uniform', 'for', 'fun', 'time', '.', '40', 'yo', 'SINGLE', 'DAD', ',', 'sincere', 'friendly', 'DTE', 'seek', 'r', '/', 'ship', 'with', 'fem', 'age', 'open', 'S', '/', 'E', '44yo', 'tall', 'seek', 'working', 'single', 'mum', 'or', 'lady', 'below', '45', 'fship', 'rship', '.', 'Nat', 'Open', '6', '.', '2', '35', 'yr', 'old', 'OUTGOING', 'M', 'seek', 'fem', '28', '-', '35', 'for', 'o', '/', 'door', 'sport', '-', 'w', '/', 'e', 'away', 'A', 'professional', 'business', 'male', ',', 'late', '40', ',', '6', 'foot', 'tall', ',', 'slim', 'build', ',', 'well', 'groomed', ',', 'great', 'personality', ',', 'home', 'owner', ',', 'interest', 'include', 'the', 'art', 'travel', 'and', 'all', 'thing', 'good', ',', 'Ringwood', 'area', ',', 'is', 'seeking', 'a', 'genuine', 'female', 'of', 'similar', 'age', 'or', 'older', ',', 'in', 'same', 'area', 'or', 'surround', ',', 'for', 'a', 'meaningful', 'long', 'term', 'rship', '.', 'Looking', 'forward', 'to', 'hearing', 'from', 'you', 'all', '.', 'ABLE', 'young', 'man', 'seek', ',', 'sexy', 'older', 'woman', '.', 'Phone', 'for', 'fun', 'ready', 'to', 'play', 'AFFECTIONATE', 'LADY', 'Sought', 'by', 'generous', 'guy', ',', '40', ',', 'mutual', 'fulfillment', 'ARE', 'YOU', 'ALONE', 'or', 'lost', 'in', 'a', 'r', '/', 'ship', 'too', ',', 'with', 'no', 'hope', 'in', 'sight', '?', 'Maybe', 'we', 'could', 'explore', 'new', 'beginning', 'together', '?', 'Im', '45', 'Slim', '/', 'Med', 'build', ',', 'GSOH', ',', 'high', 'need', 'and', 'looking', 'for', 'someone', 'similar', '.', 'You', 'WONT', 'be', 'disappointed', '.', 'AMIABLE', '43', 'y', '.', 'o', '.', 'gentleman', 'with', 'European', 'background', ',', '170', 'cm', ',', 'medium', 'build', ',', 'employed', ',', 'never', 'married', ',', 'no', 'child', '.', 'Enjoys', 'sport', ',', 'music', ',', 'cafe', ',', 'beach', '&', 'c', '.', 'Seeks', 'an', 'honest', ',', 'attractive', 'lady', 'with', 'a', 'European', 'background', ',', 'without', 'child', ',', 'who', 'would', 'like', 'to', 'get', 'married', 'and', 'have', 'chil', 'dren', 'in', 'the', 'future', '.', '29', '-', '39', 'y', '.', 'o', '.', 'Prefer', 'non', '-', 'smoker', 'and', 'living', 'in', 'Adelaide', '.', 'ARE', 'YOU', 'A', 'COPPER', 'REDHEAD', '?', 'I', 'am', '36', 'y', '.', 'o', '.', 'and', 'looking', 'for', 'companionship', '/', 'friendship', '.', 'I', 'enjoy', 'the', 'AFL', ',', 'animal', 'and', 'dining', 'out', '.', 'ATTRACTIVE', '43', 'Y', '.', 'O', '.', '61', ',', 'medium', 'build', ',', 'financially', 'secure', ',', 'no', 'child', ',', 'seek', 'attractive', 'lady', 'up', 'to', '40', 'y', '.', 'o', '.', 'with', 'no', 'child', '.', 'I', 'enjoy', 'the', 'beach', ',', 'sport', 'and', 'music', '.', 'View', 'to', 'permanent', 'relationship', '.', 'ATTRACTIVE', 'GUY', 'Late', '30', ',', '57', ',', 'Taurus', '.', 'Into', 'fitness', ',', 'cafe', ',', 'movie', ',', 'dinner', 'party', '.', 'Seeks', 'out', 'there', 'female', 'for', 'friendship', 'and', 'fun', '.', 'AUSSIE', '39', 'Solid', 'build', ',', 'like', 'music', ',', 'movie', ',', 'walk', 'on', 'the', 'beach', ',', 'single', ',', 'would', 'like', 'to', 'meet', 'lady', 'for', 'friendship', 'view', 'relationship', '.', 'AUSTRALIAN', 'FATHER', '58', 'With', '11', 'y', '.', 'o', '.', 'son', ',', 'living', 'with', 'me', '.', 'Seeks', 'nice', ',', 'caring', 'lady', 'who', 'like', 'child', 'for', 'permanent', 're', 'lationship', 'in', 'coastal', 'town', 'on', 'Eyre', 'Peninsula', '.', 'Age', 'open', 'to', '55', '.', 'AUSTRALIAN', ',', 'SLIM', ',', 'FUN', '5', 'ft', '.', '8', '.', 'Enjoy', 'BBQs', ',', 'sport', ',', 'fishing', ',', 'going', 'out', 'for', 'meal', '&', 'c', '.', 'Fun', 'to', 'be', 'with', '.', 'Looking', 'for', 'a', 'com', 'panion', ',', 'aged', 'between', '35', '-', '50', '.', 'Must', 'be', 'genuine', 'and', 'good', 'fun', '.', 'Possible', 'relationship', '.', 'BEAUTIFUL', ',', 'INTELLIGENT', 'CARING', ',', 'MUSICAL', 'Shy', ',', 'late', '20', ',', 'size', '12', ',', 'long', 'blonde', 'hair', 'and', 'like', 'to', 'drink', 'Guiness', '.', 'If', 'this', 'is', 'you', 'then', 'I', 'want', 'you', '.', 'BLONDE', 'HAIR', ',', 'BLUE', 'EYES', 'Medium', 'build', ',', 'Im', 'in', 'my', 'early', '30', '.', 'Am', 'honest', ',', 'caring', ',', 'like', 'fishing', ',', 'animal', ',', 'golf', ',', 'bike', 'riding', ',', 'TV', 'and', 'DVDs', ',', 'quiet', 'night', 'at', 'home', ',', 'kissing', 'and', 'cuddling', 'up', 'to', 'a', 'special', 'person', 'in', 'my', 'life', '.', 'Looking', 'for', 'a', 'caring', ',', 'honest', 'lady', 'for', 'friendship', 'to', 'relationship', '.', 'BUSINESSMAN', '60', \"''\", 'ish', 'Looking', 'for', 'lady', ',', 'non', '-', 'smoker', ',', '56', 'or', 'taller', 'with', 'business', 'outlook', ',', 'no', 'tie', ',', 'be', 'prepared', 'to', 'travel', 'and', 'enjoy', 'outdoor', 'sport', '(', 'car', ',', 'boat', 'etc', '.),', 'wining', '/', 'dining', '.', 'Must', 'have', 's', '.', 'o', '.', 'h', '.', 'and', 'have', 'modern', 'outlook', '.', 'CUDDLY', 'FULL', 'FIGURED', 'LADY', '50', 'plus', 'sought', 'by', 'Australian', 'gent', ',', 'early', '60', ',', 'financially', 'secure', ',', 'non', '-', 'drinker', ',', 'non', 'smoker', ',', 'for', 'permanent', 'relationship', '.', 'FIT', 'ACTIVE', 'EASYGOING', '50', 'y', '.', 'o', '.', 'male', ',', '6', 'ft', '2', ',', 'med', '.', 'build', ',', 'fit', 'and', 'healthy', ',', 'fully', 'employed', 'no', 'tie', ',', 'non', 'smoker', ',', 'light', 'drinker', '.', 'Seeking', 'female', 'friend', ',', '40', ',', 'attractive', '5', 'ft', '5', '+.', 'Med', '.', 'to', 'slim', 'build', '.', 'View', 'towards', 'a', 'permanent', 'relationship', '.', 'Give', 'me', 'a', 'call', 'let', 'have', 'a', 'chat', '.', 'GENUINE', 'AND', 'HONEST', 'Hi', 'Im', '44', 'with', 'a', 'good', 'sense', 'of', 'humour', ',', 'am', 'romantic', 'and', 'love', 'drive', ',', 'fishing', ',', 'camping', 'and', 'music', '.', 'Love', 'my', '2', 'kid', '.', 'Am', 'looking', 'for', 'a', 'lady', 'with', 'similar', 'interest', ',', 'aged', 'between', '38', '-', '45', 'for', 'friendship', '/', 'possible', 'relationship', '.', 'GENUINE', 'ATTRACTIVE', 'MAN', '40', 'y', '.', 'o', '.,', 'no', 'tie', ',', 'secure', ',', '5', 'ft', '.', '9', ',', 'slim', 'build', '.', 'I', 'enjoy', 'outdoors', ',', 'gym', ',', 'beach', ',', 'country', 'drive', 'and', 'quiet', 'night', 'at', 'home', '.', 'Seeking', 'an', 'honest', ',', 'caring', 'woman', ',', 'slim', 'or', 'med', '.', 'build', ',', 'who', 'enjoys', 'the', 'simple', 'thing', 'in', 'life', '.', 'Age', 'open', '.', 'GOOD', 'LISTENER', 'Well', 'educated', ',', 'tall', ',', 'blue', 'eye', ',', 'brown', 'hair', ',', 'Mid', '20', ',', 'good', 'looking', ',', 'honest', 'n', '/', 'smoker', '.', 'Likes', 'movie', ',', 'drive', ',', 'night', 'in', ',', 'look', 'not', 'important', ',', 'nor', 'distance', '/', 'speed', '.', 'Looking', 'for', 'someone', 'to', 'complete', 'my', 'social', 'circle', '.', 'Age', 'open', ',', 'friendship', '/', 'relationship', '.', 'GREEK', '/', 'AUST', '.', 'MALE', 'Early', '30', ',', '57', ',', 'slim', 'build', ',', 'non', '-', 'smoker', ',', 'enjoys', 'dining', 'out', ',', 'movie', ',', 'bbqs', '.,', 'football', 'and', 'quiet', 'night', 'at', 'home', '.', 'Seeking', 'slim', ',', 'attractive', 'female', ',', '20', '-', '30', 'with', 'similar', 'interest', 'for', 'friend', 'ship', '/', 'relationship', '.', 'HANDSOME', 'BUSINESSMAN', 'Tall', ',', 'slim', ',', 'independant', ',', 'under', 'standing', ',', 'mid', '50', ',', 'looking', 'for', 'classy', 'lady', 'who', 'want', 'to', 'retain', 'her', 'privacy', ',', 'still', 'retain', 'her', 'independance', 'and', 'is', 'looking', 'for', 'a', 'special', 'private', 'relationship', '.', 'HERE', 'I', 'AM', 'PICK', 'ME', '!', 'PICK', 'ME', '!', 'Now', 'that', 'I', 'have', 'your', 'attention', 'Im', 'a', '35', 'y', '.', 'o', '.', '59', 'attractive', 'guy', ',', 'non', '-', 'smoker', '/', 'social', 'drinker', ',', 'fit', 'and', 'active', ',', 'is', 'seeking', 'a', 'slim', '-', 'medium', 'lady', 'for', 'friendship', '/', 'relationship', '.', 'LIMESTONE', 'COAST', 'REGION', 'Attractive', ',', '6', 'fit', 'and', 'healthy', '46', 'y', '.', 'o', '.', 'country', 'guy', '.', 'Interests', 'incl', '.', 'self', 'sufficiency', ',', 'permaculture', 'animal', 'and', 'travel', 'would', 'like', 'to', 'meet', 'an', 'attractive', ',', 'non', '-', 'smoking', 'fun', 'loving', 'lady', '35', '-', '45', 'for', 'friendship', 'view', 'to', 'permanent', 'relationship', 'MALE', 'LATE', '50', \"''\", 's', 'AUST', 'Single', ',', 'tall', ',', 'prof', '.', 'Interests', ':', 'Music', ',', 'theatre', ',', 'dining', ',', 'art', ',', 'the', 'beach', 'and', 'the', 'environment', '.', 'Seeking', 'female', 'with', 'similar', 'interest', 'to', 'share', 'concert', ',', 'dining', 'etc', '.', 'OUTGOING', 'GUY', 'Late', '30', ',', 'seek', 'lady', ',', '25', '-', '50', ',', 'size', 'unimportant', 'for', 'fun', 'and', 'good', 'time', '.', 'RETIRED', 'GENT', 'Like', 'to', 'meet', 'slim', 'lady', 'for', 'long', 'term', 'caravan', 'travel', ',', 'heading', 'Darwin', 'in', 'May', ',', 'share', 'driving', '.', 'Must', 'have', 'sense', 'of', 'humour', ',', 'non', '-', 'smoker', '.', 'Age', 'open', '.', 'ROMANTIC', '35', 'y', '.', 'o', '.', 'with', 'one', 'child', '.', 'Likes', 'dining', ',', 'movie', ',', 'beach', ',', 'country', 'drive', ',', 'quiet', 'night', ',', 'seek', 'employed', '28', '-', '40', 'year', 'old', 'lady', 'for', 'relationship', '.', 'Clare', 'or', 'Barossa', 'region', 'or', 'northern', 'suburb', '.', 'TALL', ',', 'ATTRACTIVE', 'MALE', '40', 'no', 'tie', ',', 'down', 'to', 'earth', ',', 'easy', 'going', 'with', 'a', 'sense', 'of', 'humour', ',', 'understanding', ',', 'with', 'varied', 'interest', 'seek', 'genuine', 'female', 'for', 'friendship', ',', 'relationship', ',', 'and', 'quality', 'time', '.', 'VIETNAMESE', 'MAN', 'Single', ',', 'never', 'married', ',', 'financially', 'secure', '.', 'Seeks', 'Australian', 'lady', 'for', 'genuine', 'relationship', ',', 'single', 'mum', 'welcome', ',', 'aged', 'up', 'to', '40', '.', 'WIDOW', 'EARLY', '60', \"''\", 's', 'Self', 'employed', 'professional', ',', 'well', 'established', ',', '55', ',', 'slim', 'build', ',', 'UK', 'born', ',', 'many', 'interest', 'incl', '.', 'Sports', 'car', ',', 'sexy', ',', 'young', 'for', 'age', ',', 'look', 'and', 'outlook', 'seek', 'short', 'or', 'long', 'term', 'relationship', 'with', 'slim', ',', 'petite', 'lady', ',', 'any', 'age', 'up', 'to', '60', 'year', '.', '31', 'YO', 'GUY', 'Slim', ',', 'Seeks', '25', '-', '35', 'yo', 'female', 'for', 'friendship', '/', 'relationship', ',', 'kid', 'ok', '.', 'Eastern', 'Suburbs', '43', 'yo', 'Male', ',', 'blond', ',', 'outgoing', ',', 'genuine', ',', 'friendly', 'seeking', 'female', 'bet', '/', 'w', '30', '-', '35', 'yo', ',', 'easygoing', ',', 'friendly', '.', '50', 'YEAR', 'OLD', 'Working', 'tall', 'guy', ',', 'Would', 'like', 'to', 'meet', 'attractive', 'lady', 'for', 'long', 'term', 'relationship', '.', 'CENTRAL', 'VICTORIAN', 'single', 'Dad', 'with', '2', 'teen', 'daughter', ',', '46', 'y', '.', 'o', '.', 'Looking', 'for', 'a', 'special', 'lady', 'FIT', '&', 'HEALTHY', '60', 'y', '.', 'o', '.', 'self', 'emp', '.', 'tradesman', ',', 'NS', ',', 'seek', 'Indian', '/', 'Sri', 'Lankan', 'lady', ',', 'NS', ',', 'Olive', 'to', 'Dark', 'Complexion', ',', '48', '-', '60', 'y', '.', 'o', '.', 'for', 'F', '/', 'dship', 'Poss', '.', 'rel', '.', 'MATURE', 'GENT', '.', 'N', '/', 'S', '.', 'Non', 'drinker', '.', 'Looking', 'for', 'fship', '/', 'rship', 'with', 'Asian', 'or', 'Indian', 'lady', '.', '35', '-', '50', 'year', '.', 'ROMANTIC', 'Sexy', 'country', 'guy', '58', 'NS', 'seek', 'similar', 'NS', 'lady', 'for', 'fun', 'and', 'friendship', '.', 'WELL', 'DRESSED', 'emotionally', 'healthy', 'man', '37', 'like', 'to', 'meet', 'full', 'figured', 'woman', 'for', 'relationship', '.', '48', 'slim', ',', 'shy', ',', 'S', '/', 'S', ',', 'S', '/', 'D', ',', 'like', 'NRL', ',', 'movie', ',', 'outdoors', ',', 'nature', 'walk', 'and', 'quiet', 'time', '.', 'DtoE', ',', 'SOH', ',', 'seek', 'same', '38', '-', '50', ',', 'child', 'ok', '.', 'Fship', ',', 'po', 'Rship', ',', 'genuine', 'reply', 'only', '.', 'ALA', '.', 'Lots', 'of', 'friend', ',', 'but', 'lonely', '.', '57YRS', 'N', '/', 'S', ',', 'S', '/', 'D', '.', 'WLTM', 'attractive', 'classy', 'Lady', ',', 'slim', 'to', 'med', 'build', 'for', 'outing', ',', 'weekend', 'away', 'and', 'po', 'perm', 'rship', ',', 'if', 'suited', '.', 'Nationality', 'and', 'age', 'open', '.', 'ATTRACTIVE', '34yo', ',', 'GSOH', ',', 'S', '/', 'D', '.', 'WLTM', 'at', 'tractive', 'prof', 'Ladies', '40', '-', '50', 'who', 'are', 'time', 'poor', 'from', 'work', '/', 'career', 'and', 'like', 'fun', 'time', 'and', 'night', 'in', 'or', 'out', '.', 'Have', 'always', 'connected', 'more', 'with', 'older', 'Women', '.', 'E', \"''\", 'TAINING', '&', 'interesting', '46yo', 'Prof', '.', 'Kind', ',', 'generous', 'and', 'a', 'great', 'listener', 'who', 'enjoys', 'having', 'fun', '.', 'Witty', '&', 'humorous', 'comb', 'with', 'caring', 'and', 'responsible', '.', 'Enjoys', 'movie', ',', 'music', ',', 'reading', '&', 'being', 'social', '.', 'WLTM', 'Lady', 'to', 'enjoy', 'company', 'with', 'view', 'to', 'beginning', 'an', 'exciting', 'new', 'rship', '.', 'GENT', '57yrs', 'of', 'age', ',', 'GSOH', ',', 'N', '/', 'S', ',', 'S', '/', 'D', ',', '177cm', '.', 'Likes', 'movie', 'and', 'theatre', '.', 'Looking', 'forward', 'to', 'meeting', 'Lady', 'with', 'sim', 'int', '.', 'Please', 'send', 'photo', '.', 'Fship', ',', 'possible', 'rship', '.', 'GENTLEMAN', 'is', 'lonely', ',', 'like', 'cooking', ',', 'house', 'work', ',', 'gardening', ',', 'wild', 'life', 'caring', ',', 'and', 'fishing', '.', 'Would', 'like', 'to', 'meet', 'a', 'lady', 'to', 'share', 'this', 'with', 'me', '.', 'HI', ',', 'SWM', ',', 'med', 'build', ',', '54y', ',', 'like', 'quiet', 'nt', 'at', 'home', ',', 'self', 'supporting', ',', 'happy', 'nat', ',', 'fun', 'loving', ',', 'like', 'cooking', '.', 'GSOH', ',', 'S', '/', 'S', ',', 'S', '/', 'D', ',', 'seeking', 'F', '45', '-', '55', 'for', 'fship', ',', 'po', 'rship', ',', 'like', 'to', 'pamper', ',', 'c', '/', 'music', ',', 'r', '/', 'roll', ',', 'love', 'life', ',', 'not', 'in', 'a', 'hurry', '.', 'MALE', '58', 'year', 'old', '.', 'Is', 'there', 'a', 'Woman', 'who', 'would', 'like', 'to', 'spend', '1', 'weekend', 'a', 'month', 'in', 'Charters', 'Towers', 'especially', 'country', 'music', 'festival', 'weekend', '.', 'If', 'so', 'please', 'write', '.', 'Ref', '8826', 'PROFESSIONAL', 'Male', ',', 'tall', ',', 'fit', ',', '40', ',', 'new', 'to', 'area', 'who', 'enjoys', 'walking', ',', 'travel', ',', 'outdoors', ',', 'walk', 'on', 'bch', ',', 'amongst', 'many', 'other', 'interest', '.', 'Seeking', 'Christian', 'Woman', 'for', 'fship', ',', 'view', 'to', 'rship', '.', 'SWM', '45', 'DtoE', ',', 'honest', ',', 'S', '/', 'D', ',', '178cm', ',', '79kg', '.', 'Clean', 'cut', ',', 'intelligent', ',', 'natur', 'ist', 'seek', 'petite', 'open', 'minded', 'red', 'hd', 'or', 'brunette', '.', 'Asian', ',', 'eurasian', 'welcome', '.', 'Home', 'bch', 'drive', '.', 'Fship', ',', 'po', 'rship', '.', 'WLTM', 'sincere', ',', 'caring', 'Lady', 'to', 'share', 'life', 'with', '.', 'My', 'age', 'is', '70', 'yr', '.', 'GSOH', ',', 'easy', 'going', ',', 'honest', ',', 'reliable', ',', 'DtoE', 'person', '.', 'I', 'like', 'walk', ',', 'the', 'beach', ',', 'fishing', ',', 'the', 'outdoors', ',', 'movie', ',', 'music', ',', 'dining', 'out', ',', 'am', 'a', 'N', '/', 'S', ',', 'S', '/', 'D', '.', 'Looking', 'for', 'fship', 'and', 'a', 'po', 'rship', '.', 'ASIAN', 'LADY', '25', '+', 'SOUGHT', 'BY', 'Aussie', 'gent', '40', 'for', 'F', '/', 'ship', 'possible', 'R', '/', 'ship', 'ASIAN', 'LADY', 'sought', '.', 'Kids', 'OK', 'a', 'I', 'love', 'family', '.', 'Nice', '&', 'honest', 'guy', '.', 'ASIAN', 'LADY', 'with', 'GSOH', 'sought', 'by', 'Businessman', 'late', '30', 'for', 'f', '/', 'ship', 'r', '/', 'ship', 'ATHLETIC', 'tall', 'slim', 'gen', 'prof', '40', 'seek', 'friendly', 'lady', 'age', 'open', 'Morn', 'Pen', 'Are', 'you', 'out', 'there', '&', 'working', '35', '-', '50yo', 'NS', ',', 'SD', ',', 'GSOH', ',', 'DTE', ',', 'Caring', 'thats', 'me', '2', '.', 'Attractive', 'young', 'male', 'seek', 'ing', 'casual', 'meeting', 'with', 'mature', 'lady', '30', '-', '50', 'BRIGHT', 'Boy', 'with', 'good', 'brain', ',', 'great', 'cook', '&', 'Physique', '.', '42', ',', '5', '/', '11', 'fair', '.', 'BUSINESSMAN', '60', '+', 'n', '/', 's', 's', '/', 'd', 'seek', 'lady', 'age', 'open', 'for', 'f', '/', 'ship', 'r', '/', 'ship', 'Im', 'a', 'good', 'listener', 'so', 'let', 'have', 'lunch', 'and', 'converse', '.', 'Essendon', 'area', 'and', 'inner', 'suburb', 'Bright', 'happy', 'positive', 'prof', 'male', '48', 'fit', '/', 'healthy', 'n', '/', 's', 'seek', 'lady', 'same', 'f', '/', 'r', '/', 'ship', 'CARING', 'LOVING', '&', 'generous', ',', 'seek', 'petite', 'Female', 'up', 'to', '38', '.', 'CARING', 'well', 'dressed', 'rom', 'gent', ',', 'seek', 'classy', 'lady', '35', '+', 'of', 'elegance', 'for', 'r', '/', 'ship', 'CASUAL', 'discreet', 'weekday', 'meeting', 'no', 'obligation', 'East', 'Suburbs', '.', 'EUROPEAN', 'Male', '45', ',', 'seek', 'married', 'European', 'lady', 'for', 'R', '/', 'ship', '.', 'FIT', '36yo', 'MARRIED', 'male', 'seek', 'attr', 'married', 'female', 'for', 'discreet', 'encounter', '.', 'GENT', ',', '30', \"''\", 's', ',', 'seek', 'attr', 'lady', ',', 'easygoing', ',', 'GSOH', ',', 'for', 'long', 'term', 'fship', '/', 'rship', '.', 'GREEK', '41yo', 'seek', 'Greek', 'lady', '30', '-', '37', 'for', 'fship', '&', 'rship', 'GREEK', 'GUY', '46', ',', 'seeking', 'Greek', 'lady', 'up', 'to', '50yo', 'GREEK', 'Male', 'Late', '30', \"''\", 's', 'seek', 'Lady', 'up', 'to', '37yrs', 'for', 'long', 'term', 'relationship', 'Good', 'Looking', 'Male', 'seek', 'larger', 'lady', 'for', 'f', '/', 'ship', '.', 'Preferably', 'nth', 'sub', 'LIKE', 'TO', 'BE', 'MISTRESS', 'of', 'YOUR', 'MAN', 'like', 'to', 'be', 'treated', 'well', '.', 'Bold', 'DTE', 'not', 'precious', ',', 'available', 'during', 'the', 'day', ',', 'appreciate', 'a', 'generous', 'guy', '?', 'Lets', 'Talk', '!', '(', '50yo', ')', 'LJ', 'seek', 'JS', 'of', 'Bayswater', 'Be', 'mine', '.', 'MALE', '26', 'tall', 'n', '/', 's', 'seek', 'female', 'early', '30', 'for', 'fun', 'time', 'South', 'East', 'Suburbs', '.', 'MALE', '38', 'seeking', 'genuine', 'lady', 's', '/', 's', 'age', 'open', 'for', 'f', '/', 'ship', 'possible', 'r', '/', 'ship', 'MALE', '60', '-', 'burly', 'beared', 'seek', 'intimate', 'woman', 'for', 'outing', 'n', '/', 's', 's', '/', 'd', 'F', '/', 'ston', '/', 'Pen', 'MALE', 'MID', '30', \"''\", 'S', 'Looking', 'for', 'no', 'string', 'attached', 'fun', 'time', '.', 'MARRIED', 'HANDYMAN', 'seek', 'lady', 'for', 'casual', 'fun', 'any', 'age', 'MARRIED', 'MALE', 'mid', '40', \"''\", 's', 'attr', 'missing', 'TLC', ',', 'seek', 'lady', 'in', 'similar', 'position', 'MARRIED', 'MAN', '50', ',', 'attrac', '.', 'fit', ',', 'seek', 'lady', '40', '-', '50', 'to', 'share', 'special', 'time', '.', 'MT', 'ELIZA', 'Business', 'guy', 'seek', 'gorg', 'slim', 'lady', 'love', 'life', 'with', 'passion', 'Male', '44', 'fit', 'running', '/', 'gym', 'seek', 'slim', 'lady', 'n', '/', 's', '40', '-', '45', 'f', '/', 'ship', 'LTR', 'Male', 'Seeks', 'nice', 'girl', '25', '-', '30', 'serious', 'rship', '.', 'Man', '46', 'attractive', 'fit', ',', 'assertive', ',', 'and', 'kind', '.', 'Would', 'like', 'to', 'meet', 'attractive', 'fit', 'stylish', 'female', '.', 'For', 'dinner', 'and', 'wine', '.', 'Northcote', 'Married', 'Asian', 'like', 'to', 'meet', 'lady', 'for', 'good', 'time', ',', 'Call', 'me', '!', 'PROF', 'guy', '68', 'GSOH', 'casual', 'seek', 'sexy', 'lady', 'n', '/', 's', 'age', 'open', 'Mornington', '.', 'SCORPIO', '47', 'seek', 'passionate', 'woman', 'for', 'discreet', 'intimate', 'encounter', 'SEXY', 'MARRIED', 'MALE', 'seek', 'married', 'lady', 'for', 'discreet', 'affair', '.', 'SINGLE', 'DAD', '44yo', ',', '6ft', ',', '95', 'kg', ',', 'male', ',', 'romantic', ',', 'caring', ',', 'sincere', '&', 'honest', 'seek', 'medium', '/', 'slim', 'attrac', 'single', 'mum', '35', '-', '45', 'def', 'non', 'smoker', '.', 'Knox', 'area', 'SINGLE', 'MALE', '45', 'seek', 'female', '40', '-', '50', 'for', '4WD', 'weekend', 'away', 'SINGLE', 'MALE', '49', 'seek', 'Fe', 'male', 'for', 'f', '/', 'ship', 'possible', 'r', '/', 'ship', 'kid', 'OK', 'SINGLE', 'good', 'looking', '45', 'yo', 'seek', '40', '+', 'lady', 'casual', 'f', '/', 'ship', '&', 'fun', 'Married', 'Ok', 'SLIM', 'attractive', '40', 'looking', 'for', 'fun', 'pref', 'Asian', '.', 'STERN', 'HEADMASTER', 'With', 'a', 'firm', 'hand', ',', 'seek', 'naughty', 'lady', 'Sgl', '49', 'yo', 'Male', '6', \"''\", 'ave', 'build', 'seek', 'bi', 'curious', 'fem', 'for', 'fun', 'fship', 'po', 'rship', '.', 'Single', 'dad', '.', '42', ',', 'East', 'sub', '.', '5', '\"', '9', 'seek', 'woman', '30', '+', 'for', 'f', '/', 'ship', 'relationship', 'TALL', 'FAIR', 'HAIR', ',', 'mid', '40', \"''\", 's', 'gent', ',', 'affectionate', '/', 'loyal', ',', 'seek', 'lady', '35', '-', '45', '-', 'R', '/', 'ship', 'WANT', 'TO', 'BE', 'SPOILT', 'have', 'fun', ',', 'be', 'sexy', 'Warm', ',', 'natural', 'sgl', 'DTE', '38yo', ',', 'Prof', '.', 'seek', 'similar', 'lady', ',', 'genuine', 'fship', '/', 'rship', 'YOUNG', 'attractive', 'girl', 'under', '23', 'sought', 'by', 'good', 'looking', '30', 'guy', '.', '39', 'YR', 'OLD', 'male', 'DTE', 'GSOH', 'looking', 'for', 'lady', 'fun', 'time', '&', 'outing', 'A', 'BUSINESSMAN', '47', 'seek', 'slim', 'attract', 'uni', 'student', 'for', 'daytime', 'meeting', 'A', 'FRIEND', ',', 'A', 'LOVER', 'Self', 'employed', 'single', '47', 'yo', 'romantic', 'easy', 'going', 'GSOH', 'honest', 'reliable', 'looking', 'to', 'find', 'a', 'friend', '.', 'ASIAN', 'GUY', ',', '47', 'prof', ',', 'well', 'presented', 'athletic', 'no', 'tie', ',', 'N', '/', 'S', 'seek', 'lady', 'to', '47', 'for', 'r', '/', 'ship', ',', 'cuddly', 'lady', 'welcome', '.', 'ATTRACT', '32', 'yo', 'male', 'seek', 'a', 'younger', '18', '-', '27', 'lady', 'for', 'f', '/', 'ship', 'relationship', 'CARING', 'FIT', 'SINGLE', '52', 'yo', 'Aust', 'male', '.', 'N', '/', 'S', 'GOSH', 'financially', 'secure', 'seek', 'busty', '/', 'curvaceous', 'lady', '42', '-', '48', 'for', 'f', '/', 'ship', 'po', 'perm', 'r', '/', 'ship', 'East', 'suburb', '.', 'DISCIPLINARIAN', 'Seeks', 'lady', 'for', 'fun', 'time', 'Euro', 'Guy', 'Nth', 'Subs', 'seek', 'lady', 'into', 'car', ',', 'friendship', ',', 'good', 'time', '&', 'family', 'GOOD', 'Guy', 'seeking', 'Asian', 'lady', ',', '20', '-', '30', 'N', '/', 'S', 'for', 'f', '/', 'ship', 'r', '/', 'ship', '.', 'GUY', 'SLIM', 'FIT', 'seek', 'lady', ',', 'any', 'age', 'for', 'intimate', 'encounter', 'Genuine', ',', 'caring', '52yo', 'Male', 'seeking', 'DTE', ',', 'female', '50', '+', 'po', '.', 'R', '/', 'ship', '.', 'HARLEY', 'RIDER', '50', 'seek', 'casual', 'affair', 'with', 'married', 'lady', '.', 'HERPES', 'male', 'seek', 'fem', 'under', '36', 'for', 'r', '/', 'ship', ',', 'enjoys', ',', 'outdoors', ',', 'movie', ',', 'dinner', '.', 'JAPANESE', '/', 'ASIAN', '40', '-', '50', 'sought', 'by', 'Aussie', 'mid', '40', 'b', '/', 'man', 'f', '/', 'ship', 'r', '/', 'ship', 'LOVE', 'to', 'meet', 'widowed', 'lady', 'over', '50', ',', 'no', 'child', 'in', 'North', 'West', 'Suburbs', '.', 'MALE', '34', 'seeking', 'DTE', 'lady', 'GSOH', 'for', 'casual', 'fun', ',', 'age', '&', 'size', 'open', '.', 'MARRIED', '32', 'fit', 'attractive', 'travel', 'a', 'lot', 'looking', 'for', 'woman', 'for', 'fun', 'MARRIED', '32', 'personal', 'trainer', 'looking', 'for', 'married', 'woman', 'age', 'open', 'for', 'fun', 'MARRIED', 'Dark', 'guy', '37', 'seek', 'married', 'lady', '30', '-', '48', 'for', 'discreet', 'time', '.', 'Sth', 'E', 'Subs', '.', 'MARRIED', 'MAN', '42yo', '6ft', ',', 'fit', ',', 'seek', 'Lady', 'for', 'discreet', 'fun', 'meeting', '.', 'Mid', '30', \"''\", 's', 'Aussie', 'guy', ',', '6ft', '2', \"''\", 'olive', 'skin', ',', 'never', 'married', 'no', 'kid', ',', 'but', 'I', 'have', 'a', 'dog', 'who', 'think', 'he', 'is', 'human', '.', 'I', 'would', 'like', 'to', 'meet', 'a', 'sexy', ',', 'honest', ',', 'reliable', 'partner', 'who', 'enjoys', 'being', 'spoilt', 'and', 'is', 'ready', 'for', 'commitment', 'OLDER', 'LADY', 'sought', 'by', '32', 'male', 'for', 'friendship', 'relation', 'ship', 'TALL', 'MALE', '35', 'European', 'seeking', 'fun', ',', 'adventure', '&', 'other', 'thing', '.', '2', 'NICE', 'GUYS', 'Aged', '39', '&', '36', 'would', 'like', 'to', 'meet', 'two', 'female', 'for', 'quality', 'time', ',', 'night', 'clubbing', ',', 'movie', ',', 'dining', 'out', 'and', 'friendship', '.', 'TO', 'A', 'COUNTRY', 'BOY', '50', '+,', 'good', 'soh', ',', 'non', 'smoker', ',', 'social', 'drinker', ',', 'Harley', 'rider', ',', 'semi', 'retired', ',', 'secure', '.', 'Looking', 'for', 'nice', 'attractive', 'lady', ',', 'slim', 'to', 'medium', 'build', ',', 'under', '55', 'yr', '.', 'Must', 'be', 'non', 'smoker', ',', 'good', 'soh', 'to', 'share', 'life', 'and', 'fun', 'time', 'with', '.', 'Possible', 'relationship', '.', 'A', 'LITTLE', 'MAGIC', 'Looking', 'for', 'a', 'lady', ',', 'who', 'is', 'a', 'non', 'smoker', ',', '45', '-', '52', ',', 'slim', 'to', 'medium', 'build', ',', 'who', 'like', 'long', 'walk', ',', 'articulate', 'conversation', ',', 'music', ',', 'and', 'a', 'little', 'fun', 'with', 'a', '6', 'ft', '.', '2', 'medium', 'build', 'blue', '/', 'green', 'eyed', '.', 'gentleman', '.', 'ABOUND', 'AND', 'CAREFREE', 'Vibrant', 'personality', ',', 'n', '-', 's', ',', '5', 'ft', '.', '11', ',', '49', 'yr', '.', 'young', ',', 'creative', '&', 'adventurous', ',', 'executive', ',', 'articulate', ',', 'intelligent', '&', 'very', 'flexible', '.', 'Love', 'a', 'good', 'laugh', ',', 'love', 'life', '&', 'enjoy', 'contrast', 'and', 'the', 'finer', 'thing', 'in', 'life', '.', 'Seeks', 'lady', 'with', 'same', 'outlook', 'to', '55', 'y', '.', 'o', '.', 'ABOUT', 'ME', ':', '36', 'Easygoing', ',', 'self', 'employed', ',', '511', ',', 'medium', 'build', ',', 'smoker', '/', 'social', 'drinker', ',', 'seeking', 'slim', '-', 'medium', 'build', 'woman', 'who', 'is', 'happy', 'in', 'life', ',', 'age', 'open', '.', 'ACTIVE', '57', 'YEARS', '5', 'ft', '.', '8', ',', 'slim', 'build', ',', 'non', '-', 'smoker', ',', 'social', 'drinker', ',', 'living', 'Southern', 'suburb', '.', 'I', 'enjoy', 'a', 'healthy', ',', 'active', 'lifestyle', '.', 'Interests', 'are', ':', 'Sports', ',', 'travel', ',', 'dining', 'out', ',', 'movie', 'and', 'quiet', 'night', 'at', 'home', '.', 'Seeking', 'an', 'affectionate', ',', 'slim', ',', 'easy', 'going', 'lady', 'to', '57', 'year', 'for', 'relationship', '.', 'ADELAIDE', 'HILLS', 'Good', 'looking', ',', 'single', ',', 'Aussie', 'country', 'guy', ',', '43', 'y', '.', 'o', '.', 'med', '.', 'build', ',', '5', 'ft', '.', '8', '.,', 'honest', 'and', 'sincere', '.', 'Likes', 'BBQs', ',', 'fishing', ',', 'camping', ',', 'dining', 'out', '.', 'Seeking', 'genuine', '30', '-', '45', 'y', '.', 'o', '.', 'lady', 'who', 'enjoys', 'the', 'outdoors', 'and', 'country', 'life', '.', 'ADVENTUROUS', '42', 'y', '.', 'o', '.', 'sensitive', ',', 'non', 'smoker', ',', 'vegetarian', ',', 'slim', ',', '511', '\",', 'well', 'travelled', ',', 'beach', 'loving', '.', 'Seeks', 'down', 'to', 'earth', '25', '-', '43', 'y', '.', 'o', '.,', 'slim', ',', 'non', 'smoker', ',', 'into', 'outdoor', 'life', ',', 'camping', ',', 'walk', 'and', 'music', '.', 'TO', 'AGED', '36', ',', 'single', ',', 'outgoing', ',', 'good', 'looking', ',', 'short', 'dark', 'hair', '.', 'Interested', 'in', 'AFL', ',', 'basketball', ',', 'cricket', ',', '10', 'pin', 'bowling', 'and', 'enjoy', 'SANFL', ',', 'travelling', ',', 'going', 'out', 'for', 'dinner', ',', 'movie', 'and', 'nightclub', '.', '52', 'Y', '.', 'O', '.', 'TERTIARY', 'Educated', 'professional', 'woman', ',', 'seek', 'professional', ',', 'employed', 'man', ',', 'with', 'interest', 'in', 'theatre', ',', 'dining', ',', 'music', ',', 'good', 'conversation', 'etc', '.', 'ABOUT', 'ME', '53', 'y', '.', 'o', '.', 'lady', ',', '5', 'ft', '5', ',', 'non', 'smoker', ',', 'social', 'drinker', '.', 'I', 'enjoy', 'gardening', ',', 'music', ',', 'movie', ',', 'walking', ',', 'dining', 'out', 'and', 'quiet', 'night', 'at', 'home', ',', 'V8', 'motor', 'racing', '.', 'I', 'am', 'an', 'easygoing', ',', 'honest', 'and', 'caring', 'person', ',', 'seeking', 'gentleman', '50', '-', '65', 'for', 'friendship', 'with', 'view', 'to', 'relationship', '.', 'ATTRACTIVE', 'EMPLOYED', 'LADY', 'Late', '30', ',', 'seeking', 'tall', '5', 'ft', '.', '10', '+', 'attractive', 'to', 'very', 'attractive', 'dark', 'haired', 'gentleman', ',', 'strictly', '37', '-', '41', '.', 'No', 'kid', ',', 'working', 'normal', 'hour', ',', 'not', 'self', 'employed', ',', 'living', 'near', 'City', '.', 'ATTRACTIVE', '50', \"''\", 'ish', 'LADY', 'Easygoing', ',', 'down', 'to', 'earth', '.', 'I', 'enjoy', 'travelling', ',', 'movie', ',', 'dining', ',', 'wining', ',', 'weekend', 'away', '.', 'Seeking', 'gent', '58', '-', '65', 'with', 'similar', 'interest', '.', 'ATTRACTIVE', 'EASY', 'GOING', 'Intelligent', ',', 'slim', '-', 'medium', 'build', ',', '5', 'ft', '.', '5', ',', 'healthy', 'living', '-', 'exercise', 'daily', ',', 'employed', 'and', 'responsible', '.', 'Seeking', 'a', 'trustworthy', 'male', '42', '-', '47', 'with', 'integrity', 'and', 'good', 'moral', ',', 'non', '-', 'smoker', ',', 'social', 'drinker', '.', 'Children', 'OK', '.', 'BALLROOM', 'DANCING', 'SEEKING', 'DANCING', 'PARTNER', 'Me', ':', 'Mid', '60', ',', '55', '\",', 'slimmish', 'and', 'after', 'many', 'year', 'would', 'like', 'to', 'enjoy', 'dancing', 'again', '.', 'You', 'must', 'be', 'taller', 'than', 'I', 'and', 'to', 'avoid', 'any', 'complication', ',', 'like', 'me', ',', 'unattached', '.', 'CITY', 'GIRL', 'SEEKS', 'COUNTRY', 'ROMANCE', 'Attractive', '38', 'y', '.', 'o', '.', 'brunette', 'living', 'in', 'Adelaide', 'seek', 'country', 'farmer', '/', 'land', 'owner', '(', '36', '-', '45', '),', 'pref', '.', 'clean', 'shaven', ',', 'non', 'smoker', ',', 'honest', 'with', 'strong', 'family', 'value', 'for', 'social', 'outing', 'and', 'companionship', '.', 'Other', 'caller', 'welcome', 'to', 'reply', '.', 'DO', 'YOU', 'LOVE', 'TO', 'DANCE', '?', 'Fun', 'loving', 'and', 'employed', ',', 'I', 'enjoy', 'gardening', ',', 'BBQs', ',', 'dining', 'out', ',', 'house', 'party', '&', 'c', '.', 'Looking', 'for', 'fit', 'Rock', 'N', 'Roll', 'dance', 'partner', '.', 'Friendship', 'maybe', 'leading', 'to', 'relationship', '.', 'EARLY', '60', \"''\", 'S', 'Vibrant', 'personality', ',', 'good', 's', '.', 'o', '.', 'h', '.', 'non', '-', 'smoker', '/', 'social', 'drinker', '.', 'Interests', 'include', 'beach', 'walk', ',', 'movie', ',', 'fishing', ',', 'dancing', ',', 'looking', 'for', 'gent', '510', 'plus', '.', 'Prefer', 'living', 'western', '/', 'southern', 'suburb', '.', 'Friendship', 'view', 'to', 'relationship', '.', 'EASYGOING', '53', 'Y', '.', 'O', '.', '5ft', '.', '6', 'in', '.', 'tall', 'and', 'of', 'large', 'build', 'seek', 'a', 'good', 'man', '.', 'I', 'am', 'a', 'nonsmoker', ',', 'social', 'drinker', ',', 'single', 'mother', 'of', 'a', '15', 'year', 'old', 'boy', '.', 'Lives', 'NE', 'sub', '.', 'FEISTY', 'FOXY', '&', 'A', 'YUMMY', 'GRANDMUMMY', 'Late', '40', ',', 'working', 'full', 'time', '.', 'Looking', 'for', 'love', '&', 'laughter', '.', 'Are', 'you', 'at', 'least', '59', ',', 'non', '-', 'smoker', ',', 'adventurous', 'enough', 'for', 'exciting', 'travel', '&', 'comfortable', 'enough', 'to', 'just', 'watch', 'TV', ',', 'secure', ',', 'fit', 'but', 'not', 'fanatical', '?', 'A', 'bonus', 'would', 'be', 'a', 'love', 'of', 'dancing', '.', 'GARDEN', 'LOVER', 'Hi', '!', 'I', 'am', 'an', 'Aust', '.', 'lady', ',', '62', 'yo', ',', '5', 'ft', '.', '1', ',', 'slim', '-', 'med', '.,', 'build', ',', 'n', '-', 's', ',', 's', '-', 'd', '.', 'Interests', ':', 'dining', 'out', ',', 'movie', ',', 'entertain', '.,', 'quiet', 'night', 'at', 'home', ',', 'walk', 'on', 'beach', '&', 'gardening', 'Seeks', 'gentleman', 'who', 'is', 'honest', '&', 'looking', 'for', 'friendship', ',', 'maybe', 'lead', 'to', 'relationship', '.', 'SEEKING', 'HONEST', 'MAN', 'I', 'am', '41', 'y', '.', 'o', '.,', '5', 'ft', '.', '4', ',', 'med', '.', 'build', ',', 'employed', ',', 'fun', 'loving', 'lady', 'with', 'a', 'good', 'SOH', '.', 'Enjoy', 'movie', ',', 'dining', 'out', ',', 'country', 'drive', '&', 'quiet', 'time', '.', 'Seeks', '35', '-', '45', ',', 'honest', 'man', 'with', 'good', 'SOH', '&', 'similar', 'interest', ',', 'friendship', 'po', '.', 'relation', 'ship', '.', 'Southern', 'area', '.', 'VERY', 'ROMANTIC', 'LADY', 'Attractive', '54', 'y', '.', 'o', '.,', 'medium', 'build', ',', 'who', 'love', 'hug', 'and', 'kiss', 'and', 'those', 'special', 'tingle', 'when', 'we', 'click', '.', 'No', 'child', 'but', 'a', 'home', 'lover', '.', 'Amongst', 'other', 'thing', 'I', 'enjoy', 'being', 'by', 'the', 'river', '.', 'Would', 'like', 'to', 'meet', 'a', 'real', 'romantic', ',', 'age', '50', '-', '65', 'y', '.', 'o', '.', 'WOMAN', 'OF', 'SUBSTANCE', '56', ',', '59', 'kg', '.,', '50', ',', 'fit', ',', 'n', '-', 's', ',', 'elegant', ',', 'articulate', ',', 'seek', 'honest', ',', 'sincere', ',', 'social', ',', 'n', '-', 's', ',', 'well', 'preserved', '6', '.', 'prof', ',', 'sgle', '.', 'Prince', 'Charming', '.', 'Living', 'city', '/', 'inner', 'sub', 'to', 'share', 'a', 'future', 'filled', 'with', 'fun', ',', 'travel', ',', 'adventure', ',', 'glorious', 'sunset', ',', 'candlelight', 'dinner', ',', 'fine', 'wine', ',', 'romance', '&', 'true', 'love', '.', 'YORKE', 'PENINSULA', 'LADY', 'Late', '70', ',', '53', ',', 'pleasingly', 'plump', ',', 'missing', 'male', 'conversation', 'and', 'company', '.', 'My', 'interest', 'are', ':', 'luncheon', ',', 'card', ',', 'travel', 'and', 'indoor', 'bowl', '.', 'AFFECTIONATE', 'loyal', 'female', ',', 'seek', 'tall', 'male', '.', '35', '-', '43', 'for', 'genuine', 'relationship', '/', 'marriage', '.', 'Melb', '.', 'sub', '.', '43YO', 'WLTM', 'Male', 'who', 'enjoys', 'life', ',', 'dining', 'in', '/', 'out', ',', 'movie', ',', 'long', 'drive', ',', 'car', 'racing', ',', 'gardening', ',', 'travel', '.', 'Must', 'be', 'employed', ',', 'honest', ',', 'and', 'loving', '.', '48YO', 'SWF', 'WLTM', 'a', '42', '-', '54yo', 'genuine', ',', 'caring', ',', 'honest', 'and', 'normal', 'man', 'for', 'fship', ',', 'po', 'rship', '.', 'S', '/', 'S', ',', 'S', '/', 'D', ',', 'GSOH', '.', 'Photo', 'pls', '.', 'A', 'tall', 'attractive', 'Lady', ',', '40', 'yr', 'young', 'looking', 'for', 'a', 'Male', 'companion', 'to', 'go', 'dancing', 'with', '.', 'Could', 'be', 'light', 'hearted', 'dance', 'class', 'or', 'out', 'and', 'about', '.', 'I', 'have', 'some', 'experience', 'in', 'Ballroom', 'and', 'Jive', '.', 'LADY', '51', 'WLTM', 'SWM', '50', '-', '57', 'for', 'company', 'and', 'fship', '.', 'S', '/', 'S', ',', 'S', '/', 'D', ',', 'enjoys', 'movie', ',', 'dining', 'out', 'and', 'sedate', 'outdoor', 'walk', '.', 'Photo', 'appreciated', '.', 'LADY', '63', '.', 'WLTM', 'a', 'genu', 'ine', 'person', 'DtoE', ',', 'possibly', 'religious', ',', 'love', 'horse', ',', 'dog', ',', 'natural', 'food', '(', 'vegetarian', '),', 'beach', ',', 'reading', ',', 'fish', 'ing', '.', 'Friendship', 'please', '.', 'LADY', ',', '43', 'well', 'presented', '.', 'WLTM', 'Gent', 'for', 'dating', ',', 'rship', '.', 'Likes', 'fishing', ',', 'dining', 'out', ',', 'movie', ',', 'life', 'and', 'wine', '.', 'N', '/', 'S', ',', 'must', 'be', 'fin', '.', 'secure', '.', 'If', 'you', 'would', 'like', 'to', 'meet', 'a', 'lovely', ',', 'sexy', 'lady', 'please', 'reply', 'with', 'a', 'photo', 'if', 'po', '.', 'Genuine', 'reply', '.', 'SLIM', 'well', 'presented', 'Fem', '.', 'Early', '50', ',', 'outgoing', ',', 'intelligent', ',', 'independant', ',', 'into', 'fitness', ',', 'outdoor', 'activites', ',', 'sport', ',', 'beach', ',', 'music', ',', 'theatre', ',', 'movie', ',', 'read', 'ing', '.', 'WLTM', 'N', '/', 'S', 'Male', 'with', 'sim', '.', 'int', 'to', 'share', 'outing', '.', 'Poss', 'rship', '.', 'SWF', '40yo', ',', 'S', '/', 'D', ',', 'S', '/', 'S', ',', 'sgl', 'Mum', '.', 'Looking', 'to', 'meet', 'gen', ',', 'honest', ',', 'caring', ',', 'non', 'judgemental', 'Guy', 'up', 'to', '45yo', '.', 'Must', 'enjoy', 'danc', 'ing', 'and', 'life', 'in', 'general', '.', 'Must', 'be', 'comfortable', 'with', 'themselves', '.', 'Photo', 'pls', '.', 'Only', 'gen', 'enquiry', '.', 'ABBREVIATIONS', 'GSOH', 'Good', 'sense', 'of', 'humour', 'SOH', 'Sense', 'of', 'humour', 'N', '/', 'D', 'Non', 'drinker', 'S', '/', 'D', 'Social', 'drinker', 'S', '/', 'S', 'Social', 'smoker', 'N', '/', 'S', 'Non', 'smoker', 'ALA', 'All', 'letter', 'answered', 'WLTM', 'Would', 'like', 'to', 'meet', 'DtoE', 'Down', 'to', 'Earth', 'DONT', 'FORGET', '..', 'Its', 'FREE', 'to', 'advertise', 'in', 'Perfect', 'Match', '!']\n"
     ]
    }
   ],
   "source": [
    "print(lemmatized_words)"
   ]
  },
  {
   "cell_type": "markdown",
   "id": "6e9d0e4e",
   "metadata": {},
   "source": [
    "But in order for you to be able to do the linguistic processing tasks you’ve seen so far, you need to make an NLTK text with this list:"
   ]
  },
  {
   "cell_type": "code",
   "execution_count": 51,
   "id": "1608f4c5",
   "metadata": {},
   "outputs": [],
   "source": [
    "new_text = nltk.Text(lemmatized_words)"
   ]
  },
  {
   "cell_type": "markdown",
   "id": "13df5178",
   "metadata": {},
   "source": [
    "Here’s how to see the collocations in your new_text:"
   ]
  },
  {
   "cell_type": "code",
   "execution_count": 53,
   "id": "76eb6036",
   "metadata": {},
   "outputs": [
    {
     "name": "stdout",
     "output_type": "stream",
     "text": [
      "medium build; social drinker; non smoker; quiet night; long term;\n",
      "would like; age open; easy going; financially secure; Would like; fun\n",
      "time; similar interest; Age open; weekend away; well presented; never\n",
      "married; single mum; permanent relationship; year old; slim build\n"
     ]
    }
   ],
   "source": [
    " new_text.collocations()"
   ]
  },
  {
   "cell_type": "markdown",
   "id": "94f932cb",
   "metadata": {},
   "source": [
    "Compared to your previous list of collocations, this new one is missing a few:\n",
    "\n",
    "<li>weekends away</li>\n",
    "<li>poss rship</li>\n",
    "The idea of quiet nights still shows up in the lemmatized version, quiet night. Your latest search for collocations also brought up a few news ones:\n",
    "\n",
    "<li><b>year</b> old suggests that users often mention ages.</li>\n",
    "<li><b>photo</b> pls suggests that users often request one or more photos.</li>\n",
    "That’s how you can find common word combinations to see what people are talking about and how they’re talking about it!"
   ]
  },
  {
   "cell_type": "code",
   "execution_count": null,
   "id": "dd7dff03",
   "metadata": {},
   "outputs": [],
   "source": []
  }
 ],
 "metadata": {
  "kernelspec": {
   "display_name": "Python 3 (ipykernel)",
   "language": "python",
   "name": "python3"
  },
  "language_info": {
   "codemirror_mode": {
    "name": "ipython",
    "version": 3
   },
   "file_extension": ".py",
   "mimetype": "text/x-python",
   "name": "python",
   "nbconvert_exporter": "python",
   "pygments_lexer": "ipython3",
   "version": "3.9.7"
  }
 },
 "nbformat": 4,
 "nbformat_minor": 5
}
