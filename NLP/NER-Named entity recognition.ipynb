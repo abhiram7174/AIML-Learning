{
 "cells": [
  {
   "cell_type": "markdown",
   "id": "81236329",
   "metadata": {},
   "source": [
    "# Named entity recognition "
   ]
  },
  {
   "cell_type": "markdown",
   "id": "c1b497a3",
   "metadata": {},
   "source": [
    " Words represent the person,location and organization is called **Named Entity**.\n",
    "\n",
    "\n",
    "**Named entitry recognition** is subtask of information extraction and is process of identify the words which are named entities in a given text.\n",
    "With named entity recognition, you can find the named entities in your texts and also determine what kind of named entity they are.\n",
    "\n"
   ]
  },
  {
   "cell_type": "markdown",
   "id": "bee45a1e",
   "metadata": {},
   "source": [
    "Here’s the list of named entity types from the  <a href =\"https://www.nltk.org/book/ch07.html#sec-ner\"> NLTK BOOK</a> "
   ]
  },
  {
   "cell_type": "markdown",
   "id": "bab6f97d",
   "metadata": {},
   "source": [
    "<table >\n",
    "    <tr>\n",
    "        <th>NE type</th>\n",
    "        <th>Examples</th>\n",
    "    </tr>\n",
    "    <tr>\n",
    "        <td>ORGANIZATION</td>\n",
    "        <td>Georgia-Pacific Corp., WHO</td>\n",
    "    </tr>\n",
    "    <tr>\n",
    "        <td>PERSON</td>\n",
    "        <td>Eddy Bonte, President Obama</td>\n",
    "    </tr>\n",
    "        <tr>\n",
    "        <td>LOCATION</td>\n",
    "        <td>Murray River, Mount Everest</td>\n",
    "    </tr>\n",
    "        <tr>\n",
    "        <td>DATE</td>\n",
    "        <td>June, 2008-06-29</td>\n",
    "    </tr>\n",
    "        <tr>\n",
    "        <td>TIME</td>\n",
    "        <td>two fifty a m, 1:30 p.m.</td>\n",
    "    </tr>\n",
    "    <tr>\n",
    "        <td>MONEY</td>\n",
    "        <td>175 million Canadian dollars, GBP 10.40</td>\n",
    "    </tr>\n",
    "    <tr>\n",
    "        <td>PERCENT</td>\n",
    "        <td>twenty pct, 18.75 %</td>\n",
    "    </tr>\n",
    "        <tr>\n",
    "        <td>FACILITY</td>\n",
    "        <td>Washington Monument, Stonehenge</td>\n",
    "    </tr>\n",
    "    <tr>\n",
    "        <td>GPE</td>\n",
    "        <td>South East Asia, Midlothian</td>\n",
    "    </tr>\n",
    "    \n",
    "</table>"
   ]
  },
  {
   "cell_type": "markdown",
   "id": "ad8aaca3",
   "metadata": {},
   "source": [
    "Let’s use lotr_pos_tags again to test it out:"
   ]
  },
  {
   "cell_type": "markdown",
   "id": "0bc59487",
   "metadata": {},
   "source": [
    "Fist step import the necessery libaries"
   ]
  },
  {
   "cell_type": "code",
   "execution_count": 93,
   "id": "312a3316",
   "metadata": {},
   "outputs": [],
   "source": [
    "import nltk\n",
    "from nltk.tokenize import word_tokenize\n"
   ]
  },
  {
   "cell_type": "code",
   "execution_count": 94,
   "id": "71bc8fbb",
   "metadata": {},
   "outputs": [],
   "source": [
    "sentence=\"It's a dangerous business, Frodo, going out your door.\""
   ]
  },
  {
   "cell_type": "code",
   "execution_count": 95,
   "id": "cce7bd03",
   "metadata": {},
   "outputs": [],
   "source": [
    "tk_word=word_tokenize(sentence)"
   ]
  },
  {
   "cell_type": "code",
   "execution_count": 96,
   "id": "311e7d1b",
   "metadata": {},
   "outputs": [
    {
     "name": "stdout",
     "output_type": "stream",
     "text": [
      "['It', \"'s\", 'a', 'dangerous', 'business', ',', 'Frodo', ',', 'going', 'out', 'your', 'door', '.']\n"
     ]
    }
   ],
   "source": [
    "print(tk_word)"
   ]
  },
  {
   "cell_type": "markdown",
   "id": "43be8fe6",
   "metadata": {},
   "source": [
    "Now we take pos_tag of the sentence"
   ]
  },
  {
   "cell_type": "code",
   "execution_count": 97,
   "id": "19497c59",
   "metadata": {},
   "outputs": [
    {
     "name": "stdout",
     "output_type": "stream",
     "text": [
      "[('It', 'PRP'), (\"'s\", 'VBZ'), ('a', 'DT'), ('dangerous', 'JJ'), ('business', 'NN'), (',', ','), ('Frodo', 'NNP'), (',', ','), ('going', 'VBG'), ('out', 'RP'), ('your', 'PRP$'), ('door', 'NN'), ('.', '.')]\n"
     ]
    }
   ],
   "source": [
    "lotr_pos_tags=nltk.pos_tag(tk_word)\n",
    "print(lotr_pos_tags)"
   ]
  },
  {
   "cell_type": "markdown",
   "id": "1c16a023",
   "metadata": {},
   "source": [
    "You can use **nltk.ne_chunk()** to recognize **named entities**."
   ]
  },
  {
   "cell_type": "code",
   "execution_count": 98,
   "id": "5d85fc1f",
   "metadata": {},
   "outputs": [
    {
     "name": "stderr",
     "output_type": "stream",
     "text": [
      "[nltk_data] Downloading package maxent_ne_chunker to\n",
      "[nltk_data]     C:\\Users\\abhir\\AppData\\Roaming\\nltk_data...\n",
      "[nltk_data]   Package maxent_ne_chunker is already up-to-date!\n",
      "[nltk_data] Downloading package words to\n",
      "[nltk_data]     C:\\Users\\abhir\\AppData\\Roaming\\nltk_data...\n",
      "[nltk_data]   Package words is already up-to-date!\n"
     ]
    },
    {
     "data": {
      "text/plain": [
       "True"
      ]
     },
     "execution_count": 98,
     "metadata": {},
     "output_type": "execute_result"
    }
   ],
   "source": [
    "nltk.download(\"maxent_ne_chunker\")\n",
    "nltk.download(\"words\")"
   ]
  },
  {
   "cell_type": "code",
   "execution_count": 99,
   "id": "acd57883",
   "metadata": {},
   "outputs": [],
   "source": [
    "tree = nltk.ne_chunk(lotr_pos_tags)"
   ]
  },
  {
   "cell_type": "code",
   "execution_count": 100,
   "id": "a9a8084c",
   "metadata": {},
   "outputs": [],
   "source": [
    "for t in tree:\n",
    "    if hasattr(t, \"label\") and t.label() == \"NE\":\n",
    "        print(t[0])\n",
    "    "
   ]
  },
  {
   "cell_type": "code",
   "execution_count": 101,
   "id": "0275db1f",
   "metadata": {},
   "outputs": [],
   "source": [
    "tree.draw()"
   ]
  },
  {
   "cell_type": "markdown",
   "id": "efbf40ee",
   "metadata": {},
   "source": [
    "See how Frodo has been tagged as a PERSON? You also have the option to use the parameter binary=True <ins>if you just want to know what the named entities are but not what kind of named entity they are:</ins>"
   ]
  },
  {
   "cell_type": "code",
   "execution_count": 102,
   "id": "02d8711e",
   "metadata": {},
   "outputs": [],
   "source": [
    "tree = nltk.ne_chunk(lotr_pos_tags,binary=True)"
   ]
  },
  {
   "cell_type": "code",
   "execution_count": 103,
   "id": "df8fec6f",
   "metadata": {},
   "outputs": [],
   "source": [
    "tree.draw()"
   ]
  },
  {
   "cell_type": "markdown",
   "id": "7429316c",
   "metadata": {},
   "source": [
    "That’s how you can identify named entities! But you can take this one step further and extract named entities directly from your text. Create a string from which to extract named entities. "
   ]
  },
  {
   "cell_type": "markdown",
   "id": "1356b6ae",
   "metadata": {},
   "source": [
    "You can use this quotes from <a href= https://en.wikipedia.org/wiki/The_War_of_the_Worlds>The war of world</a>"
   ]
  },
  {
   "cell_type": "code",
   "execution_count": 104,
   "id": "197a18ce",
   "metadata": {},
   "outputs": [],
   "source": [
    "string= \"\"\"\n",
    "... Men like Schiaparelli watched the red planet—it is odd, by-the-bye, that\n",
    "... for countless centuries Mars has been the star of war—but failed to\n",
    "... interpret the fluctuating appearances of the markings they mapped so well.\n",
    "... All that time the Martians must have been getting ready.\n",
    "...\n",
    "... During the opposition of 1894 a great light was seen on the illuminated\n",
    "... part of the disk, first at the Lick Observatory, then by Perrotin of Nice,\n",
    "... and then by other observers. English readers heard of it first in the\n",
    "... issue of Nature dated August 2.\"\"\""
   ]
  },
  {
   "cell_type": "markdown",
   "id": "d5cd809c",
   "metadata": {},
   "source": [
    "Now create a function to extract named entities:"
   ]
  },
  {
   "cell_type": "code",
   "execution_count": 105,
   "id": "8fab3ac8",
   "metadata": {},
   "outputs": [],
   "source": [
    "def extract_ne(string):\n",
    "    words=word_tokenize(string,language='english')\n",
    "    tags=nltk.pos_tag(words)\n",
    "    tree=nltk.ne_chunk(tags,binary=True)\n",
    "    tree.draw()\n",
    "    return set(\n",
    "        \" \".join(i[0] for i in t)\n",
    "        for t in tree\n",
    "        if hasattr(t, \"label\") and t.label() == \"NE\"\n",
    "     )\n",
    "    "
   ]
  },
  {
   "cell_type": "markdown",
   "id": "1c184035",
   "metadata": {},
   "source": [
    "With this function, you gather all named entities, with no repeats.\n",
    "<ul>\n",
    "    <li>In order to do that, you tokenize by word</li>\n",
    "    <li>apply part of speech tags to those words</li>\n",
    "<li>Apply extract named entities based on those tags. Because you included binary=True, the named entities you’ll get won’t be labeled more specifically.</li>\n",
    "</ul>\n",
    "You’ll just know that they’re named entities."
   ]
  },
  {
   "cell_type": "markdown",
   "id": "0abcc253",
   "metadata": {},
   "source": [
    "Extracted information "
   ]
  },
  {
   "cell_type": "code",
   "execution_count": 106,
   "id": "67f75d73",
   "metadata": {},
   "outputs": [
    {
     "data": {
      "text/plain": [
       "{'Lick Observatory', 'Mars', 'Nature', 'Perrotin', 'Schiaparelli'}"
      ]
     },
     "execution_count": 106,
     "metadata": {},
     "output_type": "execute_result"
    }
   ],
   "source": [
    " extract_ne(string)"
   ]
  },
  {
   "cell_type": "markdown",
   "id": "2427f327",
   "metadata": {},
   "source": [
    "You missed the city of Nice, possibly because NLTK interpreted it as a regular English adjective, but you still got the following:\n",
    "<ul>\n",
    "    <li>An institution: 'Lick Observatory'</li>\n",
    "    <li>A planet: 'Mars'</li>\n",
    "    <li>A publication: 'Nature'</li>\n",
    "    <li>People: 'Perrotin', 'Schiaparelli'</li>\n",
    "</ul>    "
   ]
  },
  {
   "cell_type": "code",
   "execution_count": null,
   "id": "cb342a2c",
   "metadata": {},
   "outputs": [],
   "source": []
  }
 ],
 "metadata": {
  "kernelspec": {
   "display_name": "Python 3 (ipykernel)",
   "language": "python",
   "name": "python3"
  },
  "language_info": {
   "codemirror_mode": {
    "name": "ipython",
    "version": 3
   },
   "file_extension": ".py",
   "mimetype": "text/x-python",
   "name": "python",
   "nbconvert_exporter": "python",
   "pygments_lexer": "ipython3",
   "version": "3.9.7"
  }
 },
 "nbformat": 4,
 "nbformat_minor": 5
}
